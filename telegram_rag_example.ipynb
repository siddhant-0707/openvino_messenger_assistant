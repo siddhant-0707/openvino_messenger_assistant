{
  "cells": [
    {
      "cell_type": "markdown",
      "metadata": {
        "vscode": {
          "languageId": "raw"
        }
      },
      "source": [
        "# Telegram Channel Integration with RAG System\n",
        "\n",
        "This notebook demonstrates how to:\n",
        "1. Set up the Telegram client\n",
        "2. Download messages from specified channels\n",
        "3. Process these messages into a vector store\n",
        "4. Query the processed messages using RAG\n",
        "\n",
        "## Setup\n",
        "\n",
        "First, we need to get your Telegram API credentials:\n",
        "1. Go to https://my.telegram.org/apps\n",
        "2. Create a new application\n",
        "3. Note down `api_id` and `api_hash`\n",
        "\n",
        "Create a `.env` file in this directory with your credentials:\n",
        "```\n",
        "TELEGRAM_API_ID=your_api_id\n",
        "TELEGRAM_API_HASH=your_api_hash\n",
        "```\n"
      ]
    },
    {
      "cell_type": "code",
      "execution_count": null,
      "metadata": {},
      "outputs": [
        {
          "name": "stderr",
          "output_type": "stream",
          "text": [
            "huggingface/tokenizers: The current process just got forked, after parallelism has already been used. Disabling parallelism to avoid deadlocks...\n",
            "To disable this warning, you can either:\n",
            "\t- Avoid using `tokenizers` before the fork if possible\n",
            "\t- Explicitly set the environment variable TOKENIZERS_PARALLELISM=(true | false)\n"
          ]
        },
        {
          "name": "stdout",
          "output_type": "stream",
          "text": [
            "Requirement already satisfied: telethon>=1.34.0 in /home/sidd/Documents/GitHub/openvino_env/lib/python3.12/site-packages (from -r requirements_telegram.txt (line 1)) (1.40.0)\n",
            "Requirement already satisfied: python-dotenv>=1.0.0 in /home/sidd/Documents/GitHub/openvino_env/lib/python3.12/site-packages (from -r requirements_telegram.txt (line 2)) (1.1.0)\n",
            "Requirement already satisfied: langchain>=0.1.0 in /home/sidd/Documents/GitHub/openvino_env/lib/python3.12/site-packages (from -r requirements_telegram.txt (line 3)) (0.3.25)\n",
            "Requirement already satisfied: langchain-community>=0.0.13 in /home/sidd/Documents/GitHub/openvino_env/lib/python3.12/site-packages (from -r requirements_telegram.txt (line 4)) (0.3.24)\n",
            "Requirement already satisfied: faiss-cpu>=1.7.4 in /home/sidd/Documents/GitHub/openvino_env/lib/python3.12/site-packages (from -r requirements_telegram.txt (line 5)) (1.11.0)\n",
            "Requirement already satisfied: sentence-transformers>=2.2.2 in /home/sidd/Documents/GitHub/openvino_env/lib/python3.12/site-packages (from -r requirements_telegram.txt (line 6)) (4.1.0)\n",
            "Requirement already satisfied: openvino>=2024.2.0 in /home/sidd/Documents/GitHub/openvino_env/lib/python3.12/site-packages (from -r requirements_telegram.txt (line 7)) (2025.3.0.dev20250609)\n",
            "Requirement already satisfied: openvino-tokenizers>=2024.2.0 in /home/sidd/Documents/GitHub/openvino_env/lib/python3.12/site-packages (from openvino-tokenizers[transformers]>=2024.2.0->-r requirements_telegram.txt (line 8)) (2025.3.0.0.dev20250609)\n",
            "Requirement already satisfied: openvino-genai>=2024.2.0 in /home/sidd/Documents/GitHub/openvino_env/lib/python3.12/site-packages (from -r requirements_telegram.txt (line 9)) (2025.3.0.0.dev20250609)\n",
            "Requirement already satisfied: pyaes in /home/sidd/Documents/GitHub/openvino_env/lib/python3.12/site-packages (from telethon>=1.34.0->-r requirements_telegram.txt (line 1)) (1.6.1)\n",
            "Requirement already satisfied: rsa in /home/sidd/Documents/GitHub/openvino_env/lib/python3.12/site-packages (from telethon>=1.34.0->-r requirements_telegram.txt (line 1)) (4.9.1)\n",
            "Requirement already satisfied: langchain-core<1.0.0,>=0.3.58 in /home/sidd/Documents/GitHub/openvino_env/lib/python3.12/site-packages (from langchain>=0.1.0->-r requirements_telegram.txt (line 3)) (0.3.64)\n",
            "Requirement already satisfied: langchain-text-splitters<1.0.0,>=0.3.8 in /home/sidd/Documents/GitHub/openvino_env/lib/python3.12/site-packages (from langchain>=0.1.0->-r requirements_telegram.txt (line 3)) (0.3.8)\n",
            "Requirement already satisfied: langsmith<0.4,>=0.1.17 in /home/sidd/Documents/GitHub/openvino_env/lib/python3.12/site-packages (from langchain>=0.1.0->-r requirements_telegram.txt (line 3)) (0.3.45)\n",
            "Requirement already satisfied: pydantic<3.0.0,>=2.7.4 in /home/sidd/Documents/GitHub/openvino_env/lib/python3.12/site-packages (from langchain>=0.1.0->-r requirements_telegram.txt (line 3)) (2.11.5)\n",
            "Requirement already satisfied: SQLAlchemy<3,>=1.4 in /home/sidd/Documents/GitHub/openvino_env/lib/python3.12/site-packages (from langchain>=0.1.0->-r requirements_telegram.txt (line 3)) (2.0.41)\n",
            "Requirement already satisfied: requests<3,>=2 in /home/sidd/Documents/GitHub/openvino_env/lib/python3.12/site-packages (from langchain>=0.1.0->-r requirements_telegram.txt (line 3)) (2.32.4)\n",
            "Requirement already satisfied: PyYAML>=5.3 in /home/sidd/Documents/GitHub/openvino_env/lib/python3.12/site-packages (from langchain>=0.1.0->-r requirements_telegram.txt (line 3)) (6.0.2)\n",
            "Requirement already satisfied: tenacity!=8.4.0,<10.0.0,>=8.1.0 in /home/sidd/Documents/GitHub/openvino_env/lib/python3.12/site-packages (from langchain-core<1.0.0,>=0.3.58->langchain>=0.1.0->-r requirements_telegram.txt (line 3)) (9.1.2)\n",
            "Requirement already satisfied: jsonpatch<2.0,>=1.33 in /home/sidd/Documents/GitHub/openvino_env/lib/python3.12/site-packages (from langchain-core<1.0.0,>=0.3.58->langchain>=0.1.0->-r requirements_telegram.txt (line 3)) (1.33)\n",
            "Requirement already satisfied: packaging<25,>=23.2 in /home/sidd/Documents/GitHub/openvino_env/lib/python3.12/site-packages (from langchain-core<1.0.0,>=0.3.58->langchain>=0.1.0->-r requirements_telegram.txt (line 3)) (24.2)\n",
            "Requirement already satisfied: typing-extensions>=4.7 in /home/sidd/Documents/GitHub/openvino_env/lib/python3.12/site-packages (from langchain-core<1.0.0,>=0.3.58->langchain>=0.1.0->-r requirements_telegram.txt (line 3)) (4.14.0)\n",
            "Requirement already satisfied: jsonpointer>=1.9 in /home/sidd/Documents/GitHub/openvino_env/lib/python3.12/site-packages (from jsonpatch<2.0,>=1.33->langchain-core<1.0.0,>=0.3.58->langchain>=0.1.0->-r requirements_telegram.txt (line 3)) (3.0.0)\n",
            "Requirement already satisfied: httpx<1,>=0.23.0 in /home/sidd/Documents/GitHub/openvino_env/lib/python3.12/site-packages (from langsmith<0.4,>=0.1.17->langchain>=0.1.0->-r requirements_telegram.txt (line 3)) (0.28.1)\n",
            "Requirement already satisfied: orjson<4.0.0,>=3.9.14 in /home/sidd/Documents/GitHub/openvino_env/lib/python3.12/site-packages (from langsmith<0.4,>=0.1.17->langchain>=0.1.0->-r requirements_telegram.txt (line 3)) (3.10.18)\n",
            "Requirement already satisfied: requests-toolbelt<2.0.0,>=1.0.0 in /home/sidd/Documents/GitHub/openvino_env/lib/python3.12/site-packages (from langsmith<0.4,>=0.1.17->langchain>=0.1.0->-r requirements_telegram.txt (line 3)) (1.0.0)\n",
            "Requirement already satisfied: zstandard<0.24.0,>=0.23.0 in /home/sidd/Documents/GitHub/openvino_env/lib/python3.12/site-packages (from langsmith<0.4,>=0.1.17->langchain>=0.1.0->-r requirements_telegram.txt (line 3)) (0.23.0)\n",
            "Requirement already satisfied: anyio in /home/sidd/Documents/GitHub/openvino_env/lib/python3.12/site-packages (from httpx<1,>=0.23.0->langsmith<0.4,>=0.1.17->langchain>=0.1.0->-r requirements_telegram.txt (line 3)) (4.9.0)\n",
            "Requirement already satisfied: certifi in /home/sidd/Documents/GitHub/openvino_env/lib/python3.12/site-packages (from httpx<1,>=0.23.0->langsmith<0.4,>=0.1.17->langchain>=0.1.0->-r requirements_telegram.txt (line 3)) (2025.4.26)\n",
            "Requirement already satisfied: httpcore==1.* in /home/sidd/Documents/GitHub/openvino_env/lib/python3.12/site-packages (from httpx<1,>=0.23.0->langsmith<0.4,>=0.1.17->langchain>=0.1.0->-r requirements_telegram.txt (line 3)) (1.0.9)\n",
            "Requirement already satisfied: idna in /home/sidd/Documents/GitHub/openvino_env/lib/python3.12/site-packages (from httpx<1,>=0.23.0->langsmith<0.4,>=0.1.17->langchain>=0.1.0->-r requirements_telegram.txt (line 3)) (3.10)\n",
            "Requirement already satisfied: h11>=0.16 in /home/sidd/Documents/GitHub/openvino_env/lib/python3.12/site-packages (from httpcore==1.*->httpx<1,>=0.23.0->langsmith<0.4,>=0.1.17->langchain>=0.1.0->-r requirements_telegram.txt (line 3)) (0.16.0)\n",
            "Requirement already satisfied: annotated-types>=0.6.0 in /home/sidd/Documents/GitHub/openvino_env/lib/python3.12/site-packages (from pydantic<3.0.0,>=2.7.4->langchain>=0.1.0->-r requirements_telegram.txt (line 3)) (0.7.0)\n",
            "Requirement already satisfied: pydantic-core==2.33.2 in /home/sidd/Documents/GitHub/openvino_env/lib/python3.12/site-packages (from pydantic<3.0.0,>=2.7.4->langchain>=0.1.0->-r requirements_telegram.txt (line 3)) (2.33.2)\n",
            "Requirement already satisfied: typing-inspection>=0.4.0 in /home/sidd/Documents/GitHub/openvino_env/lib/python3.12/site-packages (from pydantic<3.0.0,>=2.7.4->langchain>=0.1.0->-r requirements_telegram.txt (line 3)) (0.4.1)\n",
            "Requirement already satisfied: charset_normalizer<4,>=2 in /home/sidd/Documents/GitHub/openvino_env/lib/python3.12/site-packages (from requests<3,>=2->langchain>=0.1.0->-r requirements_telegram.txt (line 3)) (3.4.2)\n",
            "Requirement already satisfied: urllib3<3,>=1.21.1 in /home/sidd/Documents/GitHub/openvino_env/lib/python3.12/site-packages (from requests<3,>=2->langchain>=0.1.0->-r requirements_telegram.txt (line 3)) (2.4.0)\n",
            "Requirement already satisfied: greenlet>=1 in /home/sidd/Documents/GitHub/openvino_env/lib/python3.12/site-packages (from SQLAlchemy<3,>=1.4->langchain>=0.1.0->-r requirements_telegram.txt (line 3)) (3.2.3)\n",
            "Requirement already satisfied: aiohttp<4.0.0,>=3.8.3 in /home/sidd/Documents/GitHub/openvino_env/lib/python3.12/site-packages (from langchain-community>=0.0.13->-r requirements_telegram.txt (line 4)) (3.12.11)\n",
            "Requirement already satisfied: dataclasses-json<0.7,>=0.5.7 in /home/sidd/Documents/GitHub/openvino_env/lib/python3.12/site-packages (from langchain-community>=0.0.13->-r requirements_telegram.txt (line 4)) (0.6.7)\n",
            "Requirement already satisfied: pydantic-settings<3.0.0,>=2.4.0 in /home/sidd/Documents/GitHub/openvino_env/lib/python3.12/site-packages (from langchain-community>=0.0.13->-r requirements_telegram.txt (line 4)) (2.9.1)\n",
            "Requirement already satisfied: httpx-sse<1.0.0,>=0.4.0 in /home/sidd/Documents/GitHub/openvino_env/lib/python3.12/site-packages (from langchain-community>=0.0.13->-r requirements_telegram.txt (line 4)) (0.4.0)\n",
            "Requirement already satisfied: numpy>=1.26.2 in /home/sidd/Documents/GitHub/openvino_env/lib/python3.12/site-packages (from langchain-community>=0.0.13->-r requirements_telegram.txt (line 4)) (2.2.6)\n",
            "Requirement already satisfied: aiohappyeyeballs>=2.5.0 in /home/sidd/Documents/GitHub/openvino_env/lib/python3.12/site-packages (from aiohttp<4.0.0,>=3.8.3->langchain-community>=0.0.13->-r requirements_telegram.txt (line 4)) (2.6.1)\n",
            "Requirement already satisfied: aiosignal>=1.1.2 in /home/sidd/Documents/GitHub/openvino_env/lib/python3.12/site-packages (from aiohttp<4.0.0,>=3.8.3->langchain-community>=0.0.13->-r requirements_telegram.txt (line 4)) (1.3.2)\n",
            "Requirement already satisfied: attrs>=17.3.0 in /home/sidd/Documents/GitHub/openvino_env/lib/python3.12/site-packages (from aiohttp<4.0.0,>=3.8.3->langchain-community>=0.0.13->-r requirements_telegram.txt (line 4)) (25.3.0)\n",
            "Requirement already satisfied: frozenlist>=1.1.1 in /home/sidd/Documents/GitHub/openvino_env/lib/python3.12/site-packages (from aiohttp<4.0.0,>=3.8.3->langchain-community>=0.0.13->-r requirements_telegram.txt (line 4)) (1.6.2)\n",
            "Requirement already satisfied: multidict<7.0,>=4.5 in /home/sidd/Documents/GitHub/openvino_env/lib/python3.12/site-packages (from aiohttp<4.0.0,>=3.8.3->langchain-community>=0.0.13->-r requirements_telegram.txt (line 4)) (6.4.4)\n",
            "Requirement already satisfied: propcache>=0.2.0 in /home/sidd/Documents/GitHub/openvino_env/lib/python3.12/site-packages (from aiohttp<4.0.0,>=3.8.3->langchain-community>=0.0.13->-r requirements_telegram.txt (line 4)) (0.3.1)\n",
            "Requirement already satisfied: yarl<2.0,>=1.17.0 in /home/sidd/Documents/GitHub/openvino_env/lib/python3.12/site-packages (from aiohttp<4.0.0,>=3.8.3->langchain-community>=0.0.13->-r requirements_telegram.txt (line 4)) (1.20.0)\n",
            "Requirement already satisfied: marshmallow<4.0.0,>=3.18.0 in /home/sidd/Documents/GitHub/openvino_env/lib/python3.12/site-packages (from dataclasses-json<0.7,>=0.5.7->langchain-community>=0.0.13->-r requirements_telegram.txt (line 4)) (3.26.1)\n",
            "Requirement already satisfied: typing-inspect<1,>=0.4.0 in /home/sidd/Documents/GitHub/openvino_env/lib/python3.12/site-packages (from dataclasses-json<0.7,>=0.5.7->langchain-community>=0.0.13->-r requirements_telegram.txt (line 4)) (0.9.0)\n",
            "Requirement already satisfied: mypy-extensions>=0.3.0 in /home/sidd/Documents/GitHub/openvino_env/lib/python3.12/site-packages (from typing-inspect<1,>=0.4.0->dataclasses-json<0.7,>=0.5.7->langchain-community>=0.0.13->-r requirements_telegram.txt (line 4)) (1.1.0)\n",
            "Requirement already satisfied: transformers<5.0.0,>=4.41.0 in /home/sidd/Documents/GitHub/openvino_env/lib/python3.12/site-packages (from sentence-transformers>=2.2.2->-r requirements_telegram.txt (line 6)) (4.51.3)\n",
            "Requirement already satisfied: tqdm in /home/sidd/Documents/GitHub/openvino_env/lib/python3.12/site-packages (from sentence-transformers>=2.2.2->-r requirements_telegram.txt (line 6)) (4.67.1)\n",
            "Requirement already satisfied: torch>=1.11.0 in /home/sidd/Documents/GitHub/openvino_env/lib/python3.12/site-packages (from sentence-transformers>=2.2.2->-r requirements_telegram.txt (line 6)) (2.7.1+cpu)\n",
            "Requirement already satisfied: scikit-learn in /home/sidd/Documents/GitHub/openvino_env/lib/python3.12/site-packages (from sentence-transformers>=2.2.2->-r requirements_telegram.txt (line 6)) (1.7.0)\n",
            "Requirement already satisfied: scipy in /home/sidd/Documents/GitHub/openvino_env/lib/python3.12/site-packages (from sentence-transformers>=2.2.2->-r requirements_telegram.txt (line 6)) (1.15.3)\n",
            "Requirement already satisfied: huggingface-hub>=0.20.0 in /home/sidd/Documents/GitHub/openvino_env/lib/python3.12/site-packages (from sentence-transformers>=2.2.2->-r requirements_telegram.txt (line 6)) (0.32.4)\n",
            "Requirement already satisfied: Pillow in /home/sidd/Documents/GitHub/openvino_env/lib/python3.12/site-packages (from sentence-transformers>=2.2.2->-r requirements_telegram.txt (line 6)) (11.2.1)\n",
            "Requirement already satisfied: filelock in /home/sidd/Documents/GitHub/openvino_env/lib/python3.12/site-packages (from transformers<5.0.0,>=4.41.0->sentence-transformers>=2.2.2->-r requirements_telegram.txt (line 6)) (3.18.0)\n",
            "Requirement already satisfied: regex!=2019.12.17 in /home/sidd/Documents/GitHub/openvino_env/lib/python3.12/site-packages (from transformers<5.0.0,>=4.41.0->sentence-transformers>=2.2.2->-r requirements_telegram.txt (line 6)) (2024.11.6)\n",
            "Requirement already satisfied: tokenizers<0.22,>=0.21 in /home/sidd/Documents/GitHub/openvino_env/lib/python3.12/site-packages (from transformers<5.0.0,>=4.41.0->sentence-transformers>=2.2.2->-r requirements_telegram.txt (line 6)) (0.21.1)\n",
            "Requirement already satisfied: safetensors>=0.4.3 in /home/sidd/Documents/GitHub/openvino_env/lib/python3.12/site-packages (from transformers<5.0.0,>=4.41.0->sentence-transformers>=2.2.2->-r requirements_telegram.txt (line 6)) (0.5.3)\n",
            "Requirement already satisfied: fsspec>=2023.5.0 in /home/sidd/Documents/GitHub/openvino_env/lib/python3.12/site-packages (from huggingface-hub>=0.20.0->sentence-transformers>=2.2.2->-r requirements_telegram.txt (line 6)) (2025.3.0)\n",
            "Requirement already satisfied: hf-xet<2.0.0,>=1.1.2 in /home/sidd/Documents/GitHub/openvino_env/lib/python3.12/site-packages (from huggingface-hub>=0.20.0->sentence-transformers>=2.2.2->-r requirements_telegram.txt (line 6)) (1.1.3)\n",
            "Requirement already satisfied: openvino-telemetry>=2023.2.1 in /home/sidd/Documents/GitHub/openvino_env/lib/python3.12/site-packages (from openvino>=2024.2.0->-r requirements_telegram.txt (line 7)) (2025.1.0)\n",
            "Requirement already satisfied: tiktoken<=0.9.0,>=0.3.0 in /home/sidd/Documents/GitHub/openvino_env/lib/python3.12/site-packages (from openvino-tokenizers[transformers]>=2024.2.0->-r requirements_telegram.txt (line 8)) (0.9.0)\n",
            "Requirement already satisfied: sentencepiece!=0.1.92,>=0.1.91 in /home/sidd/Documents/GitHub/openvino_env/lib/python3.12/site-packages (from transformers[sentencepiece]<=4.51.3,>=4.36.0; extra == \"transformers\"->openvino-tokenizers[transformers]>=2024.2.0->-r requirements_telegram.txt (line 8)) (0.2.0)\n",
            "Requirement already satisfied: protobuf in /home/sidd/Documents/GitHub/openvino_env/lib/python3.12/site-packages (from transformers[sentencepiece]<=4.51.3,>=4.36.0; extra == \"transformers\"->openvino-tokenizers[transformers]>=2024.2.0->-r requirements_telegram.txt (line 8)) (6.31.1)\n",
            "Requirement already satisfied: setuptools in /home/sidd/Documents/GitHub/openvino_env/lib/python3.12/site-packages (from torch>=1.11.0->sentence-transformers>=2.2.2->-r requirements_telegram.txt (line 6)) (80.9.0)\n",
            "Requirement already satisfied: sympy>=1.13.3 in /home/sidd/Documents/GitHub/openvino_env/lib/python3.12/site-packages (from torch>=1.11.0->sentence-transformers>=2.2.2->-r requirements_telegram.txt (line 6)) (1.14.0)\n",
            "Requirement already satisfied: networkx in /home/sidd/Documents/GitHub/openvino_env/lib/python3.12/site-packages (from torch>=1.11.0->sentence-transformers>=2.2.2->-r requirements_telegram.txt (line 6)) (3.4.2)\n",
            "Requirement already satisfied: jinja2 in /home/sidd/Documents/GitHub/openvino_env/lib/python3.12/site-packages (from torch>=1.11.0->sentence-transformers>=2.2.2->-r requirements_telegram.txt (line 6)) (3.1.6)\n",
            "Requirement already satisfied: mpmath<1.4,>=1.1.0 in /home/sidd/Documents/GitHub/openvino_env/lib/python3.12/site-packages (from sympy>=1.13.3->torch>=1.11.0->sentence-transformers>=2.2.2->-r requirements_telegram.txt (line 6)) (1.3.0)\n",
            "Requirement already satisfied: sniffio>=1.1 in /home/sidd/Documents/GitHub/openvino_env/lib/python3.12/site-packages (from anyio->httpx<1,>=0.23.0->langsmith<0.4,>=0.1.17->langchain>=0.1.0->-r requirements_telegram.txt (line 3)) (1.3.1)\n",
            "Requirement already satisfied: MarkupSafe>=2.0 in /home/sidd/Documents/GitHub/openvino_env/lib/python3.12/site-packages (from jinja2->torch>=1.11.0->sentence-transformers>=2.2.2->-r requirements_telegram.txt (line 6)) (3.0.2)\n",
            "Requirement already satisfied: pyasn1>=0.1.3 in /home/sidd/Documents/GitHub/openvino_env/lib/python3.12/site-packages (from rsa->telethon>=1.34.0->-r requirements_telegram.txt (line 1)) (0.6.1)\n",
            "Requirement already satisfied: joblib>=1.2.0 in /home/sidd/Documents/GitHub/openvino_env/lib/python3.12/site-packages (from scikit-learn->sentence-transformers>=2.2.2->-r requirements_telegram.txt (line 6)) (1.5.1)\n",
            "Requirement already satisfied: threadpoolctl>=3.1.0 in /home/sidd/Documents/GitHub/openvino_env/lib/python3.12/site-packages (from scikit-learn->sentence-transformers>=2.2.2->-r requirements_telegram.txt (line 6)) (3.6.0)\n",
            "Note: you may need to restart the kernel to use updated packages.\n"
          ]
        }
      ],
      "source": [
        "%pip install -r requirements_telegram.txt\n"
      ]
    },
    {
      "cell_type": "code",
      "execution_count": null,
      "metadata": {},
      "outputs": [
        {
          "data": {
            "text/plain": [
              "True"
            ]
          },
          "execution_count": 31,
          "metadata": {},
          "output_type": "execute_result"
        }
      ],
      "source": [
        "import os\n",
        "from dotenv import load_dotenv\n",
        "from telegram_ingestion import TelegramChannelIngestion\n",
        "from telegram_rag_integration import TelegramRAGIntegration\n",
        "import asyncio\n",
        "\n",
        "load_dotenv()\n"
      ]
    },
    {
      "cell_type": "markdown",
      "metadata": {
        "vscode": {
          "languageId": "raw"
        }
      },
      "source": [
        "## Step 1: Download Messages from Telegram Channels\n",
        "\n",
        "Specify channels\n"
      ]
    },
    {
      "cell_type": "code",
      "execution_count": null,
      "metadata": {},
      "outputs": [
        {
          "name": "stdout",
          "output_type": "stream",
          "text": [
            "Downloaded 200 messages from 2 channels\n"
          ]
        }
      ],
      "source": [
        "# List channels here\n",
        "channels = [\"guardian\", \"bloomberg\"]\n",
        "\n",
        "async def download_messages():\n",
        "    ingestion = TelegramChannelIngestion(\n",
        "        api_id=os.getenv(\"TELEGRAM_API_ID\"),\n",
        "        api_hash=os.getenv(\"TELEGRAM_API_HASH\")\n",
        "    )\n",
        "    \n",
        "    await ingestion.start()\n",
        "    try:\n",
        "        messages = await ingestion.process_channels(\n",
        "            channels,\n",
        "            limit_per_channel=100,  # Can be changed\n",
        "            since_hours=24  # Can be changed\n",
        "        )\n",
        "        print(f\"Downloaded {len(messages)} messages from {len(channels)} channels\")\n",
        "    finally:\n",
        "        await ingestion.stop()\n",
        "\n",
        "await download_messages()\n"
      ]
    },
    {
      "cell_type": "markdown",
      "metadata": {
        "vscode": {
          "languageId": "raw"
        }
      },
      "source": [
        "## Step 2: Process Messages into Vector Store\n",
        "\n",
        "Process the downloaded messages and add them to RAG system\n"
      ]
    },
    {
      "cell_type": "raw",
      "metadata": {},
      "source": [
        "## Step 5: Question Answering with RAG\n",
        "\n",
        "Now let's use the RAG system to answer questions about the Telegram messages\n"
      ]
    },
    {
      "cell_type": "code",
      "execution_count": null,
      "metadata": {},
      "outputs": [],
      "source": [
        "from genai_helper import ChunkStreamer\n",
        "from ov_langchain_helper import OpenVINOLLM\n",
        "import openvino as ov\n",
        "\n",
        "# Initialize the LLM\n",
        "model_id = \"qwen2.5-3b-instruct/INT4_compressed_weights\"  # You can change this to any supported model\n",
        "llm = OpenVINOLLM.from_model_path(\n",
        "    model_path=model_id,\n",
        "    device=\"CPU\"\n",
        ")\n",
        "\n",
        "# Example questions\n",
        "questions = [\n",
        "    \"What are the main topics discussed in the Bloomberg channel?\",\n",
        "    \"What are the latest updates from The Guardian?\",\n",
        "    \"Are there any discussions about technology or AI?\"\n",
        "]\n",
        "\n",
        "for question in questions:\n",
        "    print(f\"\\nQuestion: {question}\")\n",
        "    \n",
        "    # Update LLM configuration\n",
        "    llm.config.temperature = 0.7\n",
        "    llm.config.top_p = 0.9\n",
        "    llm.config.top_k = 50\n",
        "    llm.config.repetition_penalty = 1.1\n",
        "    \n",
        "    answer = rag.answer_question(\n",
        "        question=question,\n",
        "        llm=llm,\n",
        "        k=5  # Number of relevant messages to retrieve\n",
        "    )\n",
        "    print(f\"Answer: {answer}\\n\")\n",
        "    print(\"-\" * 80)\n"
      ]
    },
    {
      "cell_type": "raw",
      "metadata": {},
      "source": [
        "## Step 6: Channel-Specific Questions\n",
        "\n",
        "We can also ask questions about specific channels\n"
      ]
    },
    {
      "cell_type": "code",
      "execution_count": null,
      "metadata": {},
      "outputs": [],
      "source": [
        "# Example channel-specific questions\n",
        "channel_questions = [\n",
        "    (\"bloomberg\", \"What are the latest economic updates?\"),\n",
        "    (\"guardian\", \"What are the main political stories?\")\n",
        "]\n",
        "\n",
        "for channel, question in channel_questions:\n",
        "    print(f\"\\nChannel: {channel}\")\n",
        "    print(f\"Question: {question}\")\n",
        "    \n",
        "    # Update LLM configuration\n",
        "    llm.config.temperature = 0.7\n",
        "    llm.config.top_p = 0.9\n",
        "    llm.config.top_k = 50\n",
        "    llm.config.repetition_penalty = 1.1\n",
        "    \n",
        "    answer = rag.answer_question(\n",
        "        question=question,\n",
        "        llm=llm,\n",
        "        k=5,\n",
        "        filter_dict={\"channel\": channel}\n",
        "    )\n",
        "    print(f\"Answer: {answer}\\n\")\n",
        "    print(\"-\" * 80)\n"
      ]
    },
    {
      "cell_type": "code",
      "execution_count": null,
      "metadata": {},
      "outputs": [],
      "source": [
        "rag = TelegramRAGIntegration(\n",
        "    embedding_model_name=\"BAAI/bge-small-en-v1.5\",  # Can be changed\n",
        "    vector_store_path=\"telegram_vector_store\",\n",
        "    chunk_size=500,\n",
        "    chunk_overlap=50\n",
        ")\n",
        "\n",
        "rag.process_telegram_data_dir()\n"
      ]
    },
    {
      "cell_type": "markdown",
      "metadata": {
        "vscode": {
          "languageId": "raw"
        }
      },
      "source": [
        "## Step 3: Query the Processed Messages"
      ]
    },
    {
      "cell_type": "code",
      "execution_count": null,
      "metadata": {},
      "outputs": [
        {
          "name": "stdout",
          "output_type": "stream",
          "text": [
            "Query: What are the latest announcements?\n",
            "\n",
            "Result 1:\n",
            "Channel: bloomberg\n",
            "Date: 2025-05-04T07:57:30+00:00\n",
            "Content: 🎙 Trump wasn't on the ballot in Australia and Singapore elections, but his tariffs and policies loomed large over the results.\n",
            "\n",
            "Bloomberg reporters take your questions on what's next - tune in on Mond...\n",
            "\n",
            "Result 2:\n",
            "Channel: bloomberg\n",
            "Date: 2025-05-04T07:57:30+00:00\n",
            "Content: 🎙 Trump wasn't on the ballot in Australia and Singapore elections, but his tariffs and policies loomed large over the results.\n",
            "\n",
            "Bloomberg reporters take your questions on what's next - tune in on Mond...\n",
            "\n",
            "Result 3:\n",
            "Channel: bloomberg\n",
            "Date: 2025-05-04T07:57:30+00:00\n",
            "Content: 🎙 Trump wasn't on the ballot in Australia and Singapore elections, but his tariffs and policies loomed large over the results.\n",
            "\n",
            "Bloomberg reporters take your questions on what's next - tune in on Mond...\n",
            "\n",
            "Result 4:\n",
            "Channel: bloomberg\n",
            "Date: 2025-05-04T07:57:30+00:00\n",
            "Content: 🎙 Trump wasn't on the ballot in Australia and Singapore elections, but his tariffs and policies loomed large over the results.\n",
            "\n",
            "Bloomberg reporters take your questions on what's next - tune in on Mond...\n",
            "\n",
            "Result 5:\n",
            "Channel: bloomberg\n",
            "Date: 2025-05-04T07:57:30+00:00\n",
            "Content: 🎙 Trump wasn't on the ballot in Australia and Singapore elections, but his tariffs and policies loomed large over the results.\n",
            "\n",
            "Bloomberg reporters take your questions on what's next - tune in on Mond...\n",
            "\n",
            "Query: Any updates about new features?\n",
            "\n",
            "Result 1:\n",
            "Channel: guardian\n",
            "Date: 2025-05-27T05:53:56+00:00\n",
            "Content: [**Tuesday briefing: Trump’s statements about Putin have changed. Will his actions catch up?**](https://www.theguardian.com/world/2025/may/27/tuesday-briefing-first-edition-trump-putin-relationship?CM...\n",
            "\n",
            "Result 2:\n",
            "Channel: guardian\n",
            "Date: 2025-05-27T05:53:56+00:00\n",
            "Content: [**Tuesday briefing: Trump’s statements about Putin have changed. Will his actions catch up?**](https://www.theguardian.com/world/2025/may/27/tuesday-briefing-first-edition-trump-putin-relationship?CM...\n",
            "\n",
            "Result 3:\n",
            "Channel: guardian\n",
            "Date: 2025-05-27T05:53:56+00:00\n",
            "Content: [**Tuesday briefing: Trump’s statements about Putin have changed. Will his actions catch up?**](https://www.theguardian.com/world/2025/may/27/tuesday-briefing-first-edition-trump-putin-relationship?CM...\n",
            "\n",
            "Result 4:\n",
            "Channel: guardian\n",
            "Date: 2025-05-27T05:53:56+00:00\n",
            "Content: [**Tuesday briefing: Trump’s statements about Putin have changed. Will his actions catch up?**](https://www.theguardian.com/world/2025/may/27/tuesday-briefing-first-edition-trump-putin-relationship?CM...\n",
            "\n",
            "Result 5:\n",
            "Channel: guardian\n",
            "Date: 2025-05-27T05:53:56+00:00\n",
            "Content: [**Tuesday briefing: Trump’s statements about Putin have changed. Will his actions catch up?**](https://www.theguardian.com/world/2025/may/27/tuesday-briefing-first-edition-trump-putin-relationship?CM...\n",
            "\n"
          ]
        }
      ],
      "source": [
        "def query_messages(query: str, k: int = 5):\n",
        "    results = rag.query_messages(query, k=k)\n",
        "    \n",
        "    print(f\"Query: {query}\\n\")\n",
        "    for i, doc in enumerate(results, 1):\n",
        "        print(f\"Result {i}:\")\n",
        "        print(f\"Channel: {doc.metadata['channel']}\")\n",
        "        print(f\"Date: {doc.metadata['date']}\")\n",
        "        print(f\"Content: {doc.page_content[:200]}...\\n\")\n",
        "\n",
        "query_messages(\"What are the latest announcements?\")\n",
        "query_messages(\"Any updates about new features?\")\n"
      ]
    },
    {
      "cell_type": "markdown",
      "metadata": {
        "vscode": {
          "languageId": "raw"
        }
      },
      "source": [
        "## Step 4: Filter by Channel\n",
        "\n",
        "We can filter results to specific channels\n"
      ]
    },
    {
      "cell_type": "code",
      "execution_count": null,
      "metadata": {},
      "outputs": [
        {
          "name": "stdout",
          "output_type": "stream",
          "text": [
            "Results from bloomberg:\n",
            "\n",
            "Date: 2025-04-30T04:08:47+00:00\n",
            "Content: 🎙 LIVE NOW: Can Australia's next government fix its economy?\n",
            "\n",
            "Ahead of the country's federal election on Saturday, Bloomberg reporters are taking your questions on the main parties' plans in a Live Q&...\n",
            "\n",
            "Date: 2025-04-30T04:08:47+00:00\n",
            "Content: 🎙 LIVE NOW: Can Australia's next government fix its economy?\n",
            "\n",
            "Ahead of the country's federal election on Saturday, Bloomberg reporters are taking your questions on the main parties' plans in a Live Q&...\n",
            "\n",
            "Date: 2025-04-30T04:08:47+00:00\n",
            "Content: 🎙 LIVE NOW: Can Australia's next government fix its economy?\n",
            "\n",
            "Ahead of the country's federal election on Saturday, Bloomberg reporters are taking your questions on the main parties' plans in a Live Q&...\n",
            "\n",
            "Date: 2025-04-30T04:08:47+00:00\n",
            "Content: 🎙 LIVE NOW: Can Australia's next government fix its economy?\n",
            "\n",
            "Ahead of the country's federal election on Saturday, Bloomberg reporters are taking your questions on the main parties' plans in a Live Q&...\n",
            "\n",
            "Date: 2025-04-30T04:08:47+00:00\n",
            "Content: 🎙 LIVE NOW: Can Australia's next government fix its economy?\n",
            "\n",
            "Ahead of the country's federal election on Saturday, Bloomberg reporters are taking your questions on the main parties' plans in a Live Q&...\n"
          ]
        }
      ],
      "source": [
        "specific_channel = \"bloomberg\"\n",
        "results = rag.query_messages(\n",
        "    \"What are the latest updates?\",\n",
        "    k=5,\n",
        "    filter_dict={\"channel\": specific_channel}\n",
        ")\n",
        "\n",
        "print(f\"Results from {specific_channel}:\")\n",
        "for doc in results:\n",
        "    print(f\"\\nDate: {doc.metadata['date']}\")\n",
        "    print(f\"Content: {doc.page_content[:200]}...\")\n"
      ]
    },
    {
      "cell_type": "code",
      "execution_count": null,
      "metadata": {},
      "outputs": [],
      "source": []
    }
  ],
  "metadata": {
    "kernelspec": {
      "display_name": "Python 3 (ipykernel)",
      "language": "python",
      "name": "python3"
    }
  },
  "nbformat": 4,
  "nbformat_minor": 2
}
