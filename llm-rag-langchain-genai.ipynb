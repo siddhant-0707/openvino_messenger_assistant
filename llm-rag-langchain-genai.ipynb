{
 "cells": [
  {
   "attachments": {},
   "cell_type": "markdown",
   "id": "02a561f4",
   "metadata": {
    "editable": true,
    "slideshow": {
     "slide_type": ""
    },
    "tags": []
   },
   "source": [
    "# Create a RAG system using OpenVINO GenAI and LangChain\n",
    "\n",
    "**Retrieval-augmented generation (RAG)** is a technique for augmenting LLM knowledge with additional, often private or real-time, data. LLMs can reason about wide-ranging topics, but their knowledge is limited to the public data up to a specific point in time that they were trained on. If you want to build AI applications that can reason about private data or data introduced after a model’s cutoff date, you need to augment the knowledge of the model with the specific information it needs. The process of bringing the appropriate information and inserting it into the model prompt is known as Retrieval Augmented Generation (RAG).\n",
    "\n",
    "[LangChain](https://python.langchain.com/docs/get_started/introduction) is a framework for developing applications powered by language models. It has a number of components specifically designed to help build RAG applications. In this tutorial, we’ll build a simple question-answering application over a text data source.\n",
    "\n",
    "The tutorial consists of the following steps:\n",
    "\n",
    "- Install prerequisites\n",
    "- Download and convert the model from a public source using the [OpenVINO integration with Hugging Face Optimum](https://huggingface.co/blog/openvino).\n",
    "- Compress model weights to 4-bit or 8-bit data types using [NNCF](https://github.com/openvinotoolkit/nncf)\n",
    "- Create a RAG chain pipeline with [OpenVINO GenAI](https://github.com/openvinotoolkit/openvino.genai)\n",
    "- Run Q&A pipeline\n",
    "\n",
    "In this example, the customized RAG pipeline consists of following components in order, where embedding, rerank and LLM will be deployed with [OpenVINO GenAI](https://github.com/openvinotoolkit/openvino.genai) to optimize their inference performance.\n",
    "\n",
    "![RAG](https://github.com/openvinotoolkit/openvino_notebooks/assets/91237924/0076f6c7-75e4-4c2e-9015-87b355e5ca28)\n",
    "\n",
    "#### Table of contents:\n",
    "\n",
    "- [Prerequisites](#Prerequisites)\n",
    "- [Select model for inference](#Select-model-for-inference)\n",
    "- [login to huggingfacehub to get access to pretrained model](#login-to-huggingfacehub-to-get-access-to-pretrained-model)\n",
    "- [Convert model and compress model weights](#convert-model-and-compress-model-weights)\n",
    "  - [LLM conversion and Weights Compression using Optimum-CLI](#LLM-conversion-and-Weights-Compression-using-Optimum-CLI)\n",
    "    - [Weight compression with AWQ](#Weight-compression-with-AWQ)\n",
    "  - [Convert embedding model using Optimum-CLI](#Convert-embedding-model-using-Optimum-CLI)\n",
    "  - [Convert rerank model using Optimum-CLI](#Convert-rerank-model-using-Optimum-CLI)\n",
    "- [Select device for inference and model variant](#Select-device-for-inference-and-model-variant)\n",
    "  - [Select device for embedding model inference](#Select-device-for-embedding-model-inference)\n",
    "  - [Select device for rerank model inference](#Select-device-for-rerank-model-inference)\n",
    "  - [Select device for LLM model inference](#Select-device-for-LLM-model-inference)\n",
    "- [Load model](#Load-model)\n",
    "  - [Load embedding model](#Load-embedding-model)\n",
    "  - [Load rerank model](#Load-rerank-model)\n",
    "  - [Load LLM model](#Load-LLM-model)\n",
    "- [Run QA over Document](#Run-QA-over-Document)\n",
    "\n",
    "### Installation Instructions\n",
    "\n",
    "This is a self-contained example that relies solely on its own code.\n",
    "\n",
    "We recommend  running the notebook in a virtual environment. You only need a Jupyter server to start.\n",
    "For details, please refer to [Installation Guide](https://github.com/openvinotoolkit/openvino_notebooks/blob/latest/README.md#-installation-guide).\n",
    "\n",
    "<img referrerpolicy=\"no-referrer-when-downgrade\" src=\"https://static.scarf.sh/a.png?x-pxid=5b5a4db0-7875-4bfb-bdbd-01698b5b1a77&file=notebooks/llm-rag-langchain/llm-rag-langchain.ipynb\" />\n",
    "\n",
    "\n",
    "<img referrerpolicy=\"no-referrer-when-downgrade\" src=\"https://static.scarf.sh/a.png?x-pxid=5b5a4db0-7875-4bfb-bdbd-01698b5b1a77&file=notebooks/llm-rag-langchain/llm-rag-langchain-genai.ipynb\" />\n"
   ]
  },
  {
   "attachments": {},
   "cell_type": "markdown",
   "id": "7c09cb8f",
   "metadata": {},
   "source": [
    "## Prerequisites\n",
    "\n",
    "[back to top ⬆️](#Table-of-contents:)\n",
    "\n",
    "Install required dependencies\n"
   ]
  },
  {
   "cell_type": "code",
   "execution_count": 1,
   "id": "1f077b32-5d36-44b0-9041-407e996283a3",
   "metadata": {},
   "outputs": [
    {
     "name": "stdout",
     "output_type": "stream",
     "text": [
      "Looking in indexes: https://pypi.org/simple, https://storage.openvinotoolkit.org/simple/wheels/nightly\n",
      "Requirement already satisfied: openvino>=2024.2.0 in /home/sidd/Documents/GitHub/openvino_env/lib/python3.12/site-packages (2025.3.0.dev20250609)\n",
      "Requirement already satisfied: numpy<2.3.0,>=1.16.6 in /home/sidd/Documents/GitHub/openvino_env/lib/python3.12/site-packages (from openvino>=2024.2.0) (2.2.6)\n",
      "Requirement already satisfied: openvino-telemetry>=2023.2.1 in /home/sidd/Documents/GitHub/openvino_env/lib/python3.12/site-packages (from openvino>=2024.2.0) (2025.1.0)\n",
      "Requirement already satisfied: packaging in /home/sidd/Documents/GitHub/openvino_env/lib/python3.12/site-packages (from openvino>=2024.2.0) (24.2)\n",
      "Looking in indexes: https://pypi.org/simple, https://storage.openvinotoolkit.org/simple/wheels/nightly\n",
      "Requirement already satisfied: openvino-tokenizers[transformers] in /home/sidd/Documents/GitHub/openvino_env/lib/python3.12/site-packages (2025.3.0.0.dev20250609)\n",
      "Requirement already satisfied: openvino~=2025.3.0.dev in /home/sidd/Documents/GitHub/openvino_env/lib/python3.12/site-packages (from openvino-tokenizers[transformers]) (2025.3.0.dev20250609)\n",
      "Requirement already satisfied: transformers<=4.51.3,>=4.36.0 in /home/sidd/Documents/GitHub/openvino_env/lib/python3.12/site-packages (from transformers[sentencepiece]<=4.51.3,>=4.36.0; extra == \"transformers\"->openvino-tokenizers[transformers]) (4.51.3)\n",
      "Requirement already satisfied: tiktoken<=0.9.0,>=0.3.0 in /home/sidd/Documents/GitHub/openvino_env/lib/python3.12/site-packages (from openvino-tokenizers[transformers]) (0.9.0)\n",
      "Requirement already satisfied: numpy<2.3.0,>=1.16.6 in /home/sidd/Documents/GitHub/openvino_env/lib/python3.12/site-packages (from openvino~=2025.3.0.dev->openvino-tokenizers[transformers]) (2.2.6)\n",
      "Requirement already satisfied: openvino-telemetry>=2023.2.1 in /home/sidd/Documents/GitHub/openvino_env/lib/python3.12/site-packages (from openvino~=2025.3.0.dev->openvino-tokenizers[transformers]) (2025.1.0)\n",
      "Requirement already satisfied: packaging in /home/sidd/Documents/GitHub/openvino_env/lib/python3.12/site-packages (from openvino~=2025.3.0.dev->openvino-tokenizers[transformers]) (24.2)\n",
      "Requirement already satisfied: regex>=2022.1.18 in /home/sidd/Documents/GitHub/openvino_env/lib/python3.12/site-packages (from tiktoken<=0.9.0,>=0.3.0->openvino-tokenizers[transformers]) (2024.11.6)\n",
      "Requirement already satisfied: requests>=2.26.0 in /home/sidd/Documents/GitHub/openvino_env/lib/python3.12/site-packages (from tiktoken<=0.9.0,>=0.3.0->openvino-tokenizers[transformers]) (2.32.4)\n",
      "Requirement already satisfied: filelock in /home/sidd/Documents/GitHub/openvino_env/lib/python3.12/site-packages (from transformers<=4.51.3,>=4.36.0->transformers[sentencepiece]<=4.51.3,>=4.36.0; extra == \"transformers\"->openvino-tokenizers[transformers]) (3.18.0)\n",
      "Requirement already satisfied: huggingface-hub<1.0,>=0.30.0 in /home/sidd/Documents/GitHub/openvino_env/lib/python3.12/site-packages (from transformers<=4.51.3,>=4.36.0->transformers[sentencepiece]<=4.51.3,>=4.36.0; extra == \"transformers\"->openvino-tokenizers[transformers]) (0.32.4)\n",
      "Requirement already satisfied: pyyaml>=5.1 in /home/sidd/Documents/GitHub/openvino_env/lib/python3.12/site-packages (from transformers<=4.51.3,>=4.36.0->transformers[sentencepiece]<=4.51.3,>=4.36.0; extra == \"transformers\"->openvino-tokenizers[transformers]) (6.0.2)\n",
      "Requirement already satisfied: tokenizers<0.22,>=0.21 in /home/sidd/Documents/GitHub/openvino_env/lib/python3.12/site-packages (from transformers<=4.51.3,>=4.36.0->transformers[sentencepiece]<=4.51.3,>=4.36.0; extra == \"transformers\"->openvino-tokenizers[transformers]) (0.21.1)\n",
      "Requirement already satisfied: safetensors>=0.4.3 in /home/sidd/Documents/GitHub/openvino_env/lib/python3.12/site-packages (from transformers<=4.51.3,>=4.36.0->transformers[sentencepiece]<=4.51.3,>=4.36.0; extra == \"transformers\"->openvino-tokenizers[transformers]) (0.5.3)\n",
      "Requirement already satisfied: tqdm>=4.27 in /home/sidd/Documents/GitHub/openvino_env/lib/python3.12/site-packages (from transformers<=4.51.3,>=4.36.0->transformers[sentencepiece]<=4.51.3,>=4.36.0; extra == \"transformers\"->openvino-tokenizers[transformers]) (4.67.1)\n",
      "Requirement already satisfied: fsspec>=2023.5.0 in /home/sidd/Documents/GitHub/openvino_env/lib/python3.12/site-packages (from huggingface-hub<1.0,>=0.30.0->transformers<=4.51.3,>=4.36.0->transformers[sentencepiece]<=4.51.3,>=4.36.0; extra == \"transformers\"->openvino-tokenizers[transformers]) (2025.3.0)\n",
      "Requirement already satisfied: typing-extensions>=3.7.4.3 in /home/sidd/Documents/GitHub/openvino_env/lib/python3.12/site-packages (from huggingface-hub<1.0,>=0.30.0->transformers<=4.51.3,>=4.36.0->transformers[sentencepiece]<=4.51.3,>=4.36.0; extra == \"transformers\"->openvino-tokenizers[transformers]) (4.14.0)\n",
      "Requirement already satisfied: hf-xet<2.0.0,>=1.1.2 in /home/sidd/Documents/GitHub/openvino_env/lib/python3.12/site-packages (from huggingface-hub<1.0,>=0.30.0->transformers<=4.51.3,>=4.36.0->transformers[sentencepiece]<=4.51.3,>=4.36.0; extra == \"transformers\"->openvino-tokenizers[transformers]) (1.1.3)\n",
      "Requirement already satisfied: sentencepiece!=0.1.92,>=0.1.91 in /home/sidd/Documents/GitHub/openvino_env/lib/python3.12/site-packages (from transformers[sentencepiece]<=4.51.3,>=4.36.0; extra == \"transformers\"->openvino-tokenizers[transformers]) (0.2.0)\n",
      "Requirement already satisfied: protobuf in /home/sidd/Documents/GitHub/openvino_env/lib/python3.12/site-packages (from transformers[sentencepiece]<=4.51.3,>=4.36.0; extra == \"transformers\"->openvino-tokenizers[transformers]) (6.31.1)\n",
      "Requirement already satisfied: charset_normalizer<4,>=2 in /home/sidd/Documents/GitHub/openvino_env/lib/python3.12/site-packages (from requests>=2.26.0->tiktoken<=0.9.0,>=0.3.0->openvino-tokenizers[transformers]) (3.4.2)\n",
      "Requirement already satisfied: idna<4,>=2.5 in /home/sidd/Documents/GitHub/openvino_env/lib/python3.12/site-packages (from requests>=2.26.0->tiktoken<=0.9.0,>=0.3.0->openvino-tokenizers[transformers]) (3.10)\n",
      "Requirement already satisfied: urllib3<3,>=1.21.1 in /home/sidd/Documents/GitHub/openvino_env/lib/python3.12/site-packages (from requests>=2.26.0->tiktoken<=0.9.0,>=0.3.0->openvino-tokenizers[transformers]) (2.4.0)\n",
      "Requirement already satisfied: certifi>=2017.4.17 in /home/sidd/Documents/GitHub/openvino_env/lib/python3.12/site-packages (from requests>=2.26.0->tiktoken<=0.9.0,>=0.3.0->openvino-tokenizers[transformers]) (2025.4.26)\n",
      "Looking in indexes: https://pypi.org/simple, https://storage.openvinotoolkit.org/simple/wheels/nightly\n",
      "Requirement already satisfied: openvino-genai in /home/sidd/Documents/GitHub/openvino_env/lib/python3.12/site-packages (2025.3.0.0.dev20250609)\n",
      "Requirement already satisfied: openvino_tokenizers~=2025.3.0.0.dev in /home/sidd/Documents/GitHub/openvino_env/lib/python3.12/site-packages (from openvino-genai) (2025.3.0.0.dev20250609)\n",
      "Requirement already satisfied: openvino~=2025.3.0.dev in /home/sidd/Documents/GitHub/openvino_env/lib/python3.12/site-packages (from openvino_tokenizers~=2025.3.0.0.dev->openvino-genai) (2025.3.0.dev20250609)\n",
      "Requirement already satisfied: numpy<2.3.0,>=1.16.6 in /home/sidd/Documents/GitHub/openvino_env/lib/python3.12/site-packages (from openvino~=2025.3.0.dev->openvino_tokenizers~=2025.3.0.0.dev->openvino-genai) (2.2.6)\n",
      "Requirement already satisfied: openvino-telemetry>=2023.2.1 in /home/sidd/Documents/GitHub/openvino_env/lib/python3.12/site-packages (from openvino~=2025.3.0.dev->openvino_tokenizers~=2025.3.0.0.dev->openvino-genai) (2025.1.0)\n",
      "Requirement already satisfied: packaging in /home/sidd/Documents/GitHub/openvino_env/lib/python3.12/site-packages (from openvino~=2025.3.0.dev->openvino_tokenizers~=2025.3.0.0.dev->openvino-genai) (24.2)\n"
     ]
    }
   ],
   "source": [
    "import os\n",
    "import requests\n",
    "from pathlib import Path\n",
    "\n",
    "if not Path(\"notebook_utils.py\").exists():\n",
    "    r = requests.get(\n",
    "        url=\"https://raw.githubusercontent.com/openvinotoolkit/openvino_notebooks/latest/utils/notebook_utils.py\",\n",
    "    )\n",
    "    with open(\"notebook_utils.py\", \"w\") as f:\n",
    "        f.write(r.text)\n",
    "\n",
    "if not Path(\"pip_helper.py\").exists():\n",
    "    r = requests.get(\n",
    "        url=\"https://raw.githubusercontent.com/openvinotoolkit/openvino_notebooks/latest/utils/pip_helper.py\",\n",
    "    )\n",
    "    open(\"pip_helper.py\", \"w\").write(r.text)\n",
    "\n",
    "if not Path(\"cmd_helper.py\").exists():\n",
    "    r = requests.get(\n",
    "        url=\"https://raw.githubusercontent.com/openvinotoolkit/openvino_notebooks/latest/utils/cmd_helper.py\",\n",
    "    )\n",
    "    with open(\"cmd_helper.py\", \"w\") as f:\n",
    "        f.write(r.text)\n",
    "\n",
    "\n",
    "if not Path(\"genai_helper.py\").exists():\n",
    "    r = requests.get(url=\"https://raw.githubusercontent.com/openvinotoolkit/openvino_notebooks/latest/utils/genai_helper.py\")\n",
    "    open(\"genai_helper.py\", \"w\").write(r.text)\n",
    "\n",
    "from pip_helper import pip_install\n",
    "\n",
    "os.environ[\"GIT_CLONE_PROTECTION_ACTIVE\"] = \"false\"\n",
    "\n",
    "pip_install(\"--pre\", \"-U\", \"openvino>=2024.2.0\", \"--extra-index-url\", \"https://storage.openvinotoolkit.org/simple/wheels/nightly\")\n",
    "pip_install(\"--pre\", \"-U\", \"openvino-tokenizers[transformers]\", \"--extra-index-url\", \"https://storage.openvinotoolkit.org/simple/wheels/nightly\")\n",
    "pip_install(\"--pre\", \"-U\", \"openvino-genai\", \"--extra-index-url\", \"https://storage.openvinotoolkit.org/simple/wheels/nightly\")\n",
    "pip_install(\n",
    "    \"-q\",\n",
    "    \"--extra-index-url\",\n",
    "    \"https://download.pytorch.org/whl/cpu\",\n",
    "    \"git+https://github.com/huggingface/optimum-intel.git\",\n",
    "    \"git+https://github.com/openvinotoolkit/nncf.git\",\n",
    "    \"datasets\",\n",
    "    \"accelerate\",\n",
    "    \"gradio>=4.19\",\n",
    "    \"onnx<1.16.2\",\n",
    "    \"einops\",\n",
    "    \"transformers_stream_generator\",\n",
    "    \"tiktoken\",\n",
    "    \"transformers>=4.43.1\",\n",
    "    \"faiss-cpu\",\n",
    "    \"sentence_transformers\",\n",
    "    \"langchain>=0.2.0\",\n",
    "    \"langchain-community>=0.2.15\",\n",
    "    \"langchainhub\",\n",
    "    \"unstructured\",\n",
    "    \"scikit-learn\",\n",
    "    \"python-docx\",\n",
    "    \"pypdf\",\n",
    "    \"huggingface-hub>=0.26.5\",\n",
    ")\n",
    "\n",
    "# Read more about telemetry collection at https://github.com/openvinotoolkit/openvino_notebooks?tab=readme-ov-file#-telemetry\n",
    "from notebook_utils import collect_telemetry\n",
    "\n",
    "collect_telemetry(\"llm-rag-langchain-genai.ipynb\")"
   ]
  },
  {
   "cell_type": "code",
   "execution_count": 2,
   "id": "1b2c3f4e",
   "metadata": {},
   "outputs": [],
   "source": [
    "import os\n",
    "from pathlib import Path\n",
    "import requests\n",
    "import shutil\n",
    "import io\n",
    "\n",
    "# fetch model configuration\n",
    "\n",
    "config_shared_path = Path(\"../../utils/llm_config.py\")\n",
    "config_dst_path = Path(\"llm_config.py\")\n",
    "text_example_en_path = Path(\"text_example_en.pdf\")\n",
    "text_example_cn_path = Path(\"text_example_cn.pdf\")\n",
    "text_example_en = \"https://github.com/openvinotoolkit/openvino_notebooks/files/15039728/Platform.Brief_Intel.vPro.with.Intel.Core.Ultra_Final.pdf\"\n",
    "text_example_cn = \"https://github.com/openvinotoolkit/openvino_notebooks/files/15039713/Platform.Brief_Intel.vPro.with.Intel.Core.Ultra_Final_CH.pdf\"\n",
    "\n",
    "if not config_dst_path.exists():\n",
    "    if config_shared_path.exists():\n",
    "        try:\n",
    "            os.symlink(config_shared_path, config_dst_path)\n",
    "        except Exception:\n",
    "            shutil.copy(config_shared_path, config_dst_path)\n",
    "    else:\n",
    "        r = requests.get(url=\"https://raw.githubusercontent.com/openvinotoolkit/openvino_notebooks/latest/utils/llm_config.py\")\n",
    "        with open(\"llm_config.py\", \"w\", encoding=\"utf-8\") as f:\n",
    "            f.write(r.text)\n",
    "elif not os.path.islink(config_dst_path):\n",
    "    print(\"LLM config will be updated\")\n",
    "    if config_shared_path.exists():\n",
    "        shutil.copy(config_shared_path, config_dst_path)\n",
    "    else:\n",
    "        r = requests.get(url=\"https://raw.githubusercontent.com/openvinotoolkit/openvino_notebooks/latest/utils/llm_config.py\")\n",
    "        with open(\"llm_config.py\", \"w\", encoding=\"utf-8\") as f:\n",
    "            f.write(r.text)\n",
    "\n",
    "if not text_example_en_path.exists():\n",
    "    r = requests.get(url=text_example_en)\n",
    "    content = io.BytesIO(r.content)\n",
    "    with open(\"text_example_en.pdf\", \"wb\") as f:\n",
    "        f.write(content.read())\n",
    "\n",
    "if not text_example_cn_path.exists():\n",
    "    r = requests.get(url=text_example_cn)\n",
    "    content = io.BytesIO(r.content)\n",
    "    with open(\"text_example_cn.pdf\", \"wb\") as f:\n",
    "        f.write(content.read())"
   ]
  },
  {
   "attachments": {},
   "cell_type": "markdown",
   "id": "56fdefa8-c753-4d48-9dd3-14bd1447135b",
   "metadata": {},
   "source": [
    "## Select model for inference\n",
    "\n",
    "[back to top ⬆️](#Table-of-contents:)\n",
    "\n",
    "The tutorial supports different models, you can select one from the provided options to compare the quality of open source LLM solutions.\n",
    "\n",
    "> **Note**: conversion of some models can require additional actions from user side and at least 64GB RAM for conversion.\n",
    "\n",
    "The available embedding model options are:\n",
    "\n",
    "- [**bge-small-en-v1.5**](https://huggingface.co/BAAI/bge-small-en-v1.5)\n",
    "- [**bge-small-zh-v1.5**](https://huggingface.co/BAAI/bge-small-zh-v1.5)\n",
    "- [**bge-large-en-v1.5**](https://huggingface.co/BAAI/bge-large-en-v1.5)\n",
    "- [**bge-large-zh-v1.5**](https://huggingface.co/BAAI/bge-large-zh-v1.5)\n",
    "- [**bge-m3**](https://huggingface.co/BAAI/bge-m3)\n",
    "\n",
    "BGE embedding is a general Embedding Model. The model is pre-trained using RetroMAE and trained on large-scale pair data using contrastive learning.\n",
    "\n",
    "The available rerank model options are:\n",
    "\n",
    "- [**bge-reranker-v2-m3**](https://huggingface.co/BAAI/bge-reranker-v2-m3)\n",
    "- [**bge-reranker-large**](https://huggingface.co/BAAI/bge-reranker-large)\n",
    "- [**bge-reranker-base**](https://huggingface.co/BAAI/bge-reranker-base)\n",
    "\n",
    "Reranker model with cross-encoder will perform full-attention over the input pair, which is more accurate than embedding model (i.e., bi-encoder) but more time-consuming than embedding model. Therefore, it can be used to re-rank the top-k documents returned by embedding model.\n",
    "\n",
    "You can also find available LLM model options in [llm-chatbot](../llm-chatbot/README.md) notebook.\n",
    "\n",
    "### Optional: Telegram Integration\n",
    "\n",
    "This notebook also supports ingesting data from Telegram channels. To use this feature:\n",
    "\n",
    "1. Get your Telegram API credentials:\n",
    "   - Go to https://my.telegram.org/apps\n",
    "   - Create a new application\n",
    "   - Note down your `api_id` and `api_hash`\n",
    "\n",
    "2. Create a `.env` file in this directory with your credentials:\n",
    "   ```\n",
    "   TELEGRAM_API_ID=your_api_id\n",
    "   TELEGRAM_API_HASH=your_api_hash\n",
    "   ```\n",
    "\n",
    "3. Install additional dependencies:\n",
    "   ```bash\n",
    "   pip install -r requirements_telegram.txt\n",
    "   ```\n",
    "\n",
    "The Telegram integration allows you to:\n",
    "- Download messages from specified Telegram channels\n",
    "- Process them using OpenVINO-optimized models\n",
    "- Add them to your RAG system's knowledge base\n",
    "- Query across both document and Telegram sources\n"
   ]
  },
  {
   "cell_type": "code",
   "execution_count": 3,
   "id": "d3b57cfb-e727-43a5-b2c9-8f1b1ba72061",
   "metadata": {},
   "outputs": [],
   "source": [
    "from pathlib import Path\n",
    "import ipywidgets as widgets"
   ]
  },
  {
   "attachments": {},
   "cell_type": "markdown",
   "id": "b51ff5a9",
   "metadata": {},
   "source": [
    "## Convert model and compress model weights\n",
    "\n",
    "[back to top ⬆️](#Table-of-contents:)\n",
    "\n",
    "The Weights Compression algorithm is aimed at compressing the weights of the models and can be used to optimize the model footprint and performance of large models where the size of weights is relatively larger than the size of activations, for example, Large Language Models (LLM). Compared to INT8 compression, INT4 compression improves performance even more, but introduces a minor drop in prediction quality."
   ]
  },
  {
   "cell_type": "code",
   "execution_count": 4,
   "id": "37bf49d7",
   "metadata": {},
   "outputs": [
    {
     "data": {
      "application/vnd.jupyter.widget-view+json": {
       "model_id": "ebe8c2b349de48e592795a5a5529b026",
       "version_major": 2,
       "version_minor": 0
      },
      "text/plain": [
       "Dropdown(description='Model Language:', options=('English', 'Chinese', 'Japanese'), value='English')"
      ]
     },
     "execution_count": 4,
     "metadata": {},
     "output_type": "execute_result"
    }
   ],
   "source": [
    "from llm_config import (\n",
    "    SUPPORTED_EMBEDDING_MODELS,\n",
    "    SUPPORTED_RERANK_MODELS,\n",
    "    SUPPORTED_LLM_MODELS,\n",
    ")\n",
    "\n",
    "model_languages = list(SUPPORTED_LLM_MODELS)\n",
    "\n",
    "model_language = widgets.Dropdown(\n",
    "    options=model_languages,\n",
    "    value=model_languages[0],\n",
    "    description=\"Model Language:\",\n",
    "    disabled=False,\n",
    ")\n",
    "\n",
    "model_language"
   ]
  },
  {
   "cell_type": "code",
   "execution_count": 5,
   "id": "184d1678-0e73-4f35-8af5-1a7d291c2e6e",
   "metadata": {},
   "outputs": [
    {
     "data": {
      "application/vnd.jupyter.widget-view+json": {
       "model_id": "8705bf8864314f449e254e47450cbc1f",
       "version_major": 2,
       "version_minor": 0
      },
      "text/plain": [
       "Dropdown(description='Model:', index=19, options=('tiny-llama-1b-chat', 'llama-3.2-1b-instruct', 'llama-3.2-3b…"
      ]
     },
     "execution_count": 5,
     "metadata": {},
     "output_type": "execute_result"
    }
   ],
   "source": [
    "llm_model_ids = [model_id for model_id, model_config in SUPPORTED_LLM_MODELS[model_language.value].items() if model_config.get(\"rag_prompt_template\")]\n",
    "\n",
    "llm_model_id = widgets.Dropdown(\n",
    "    options=llm_model_ids,\n",
    "    value=llm_model_ids[-1],\n",
    "    description=\"Model:\",\n",
    "    disabled=False,\n",
    ")\n",
    "\n",
    "llm_model_id"
   ]
  },
  {
   "cell_type": "code",
   "execution_count": 7,
   "id": "49ea95f8",
   "metadata": {},
   "outputs": [
    {
     "name": "stdout",
     "output_type": "stream",
     "text": [
      "Selected LLM model qwen2.5-3b-instruct\n"
     ]
    }
   ],
   "source": [
    "llm_model_configuration = SUPPORTED_LLM_MODELS[model_language.value][llm_model_id.value]\n",
    "print(f\"Selected LLM model {llm_model_id.value}\")"
   ]
  },
  {
   "attachments": {},
   "cell_type": "markdown",
   "id": "5d370f13",
   "metadata": {},
   "source": [
    "🤗 [Optimum Intel](https://huggingface.co/docs/optimum/intel/index) is the interface between the 🤗 [Transformers](https://huggingface.co/docs/transformers/index) and [Diffusers](https://huggingface.co/docs/diffusers/index) libraries and OpenVINO to accelerate end-to-end pipelines on Intel architectures. It provides ease-to-use cli interface for exporting models to [OpenVINO Intermediate Representation (IR)](https://docs.openvino.ai/2024/documentation/openvino-ir-format.html) format.\n",
    "\n",
    "The command bellow demonstrates basic command for model export with `optimum-cli`\n",
    "\n",
    "```\n",
    "optimum-cli export openvino --model <model_id_or_path> --task <task> <out_dir>\n",
    "```\n",
    "\n",
    "where `--model` argument is model id from HuggingFace Hub or local directory with model (saved using `.save_pretrained` method), `--task ` is one of [supported task](https://huggingface.co/docs/optimum/exporters/task_manager) that exported model should solve. For LLMs it will be `text-generation-with-past`. If model initialization requires to use remote code, `--trust-remote-code` flag additionally should be passed.\n"
   ]
  },
  {
   "attachments": {},
   "cell_type": "markdown",
   "id": "6337eab8",
   "metadata": {},
   "source": [
    "### LLM conversion and Weights Compression using Optimum-CLI\n",
    "\n",
    "[back to top ⬆️](#Table-of-contents:)\n",
    "\n",
    "You can also apply fp16, 8-bit or 4-bit weight compression on the Linear, Convolutional and Embedding layers when exporting your model with the CLI by setting `--weight-format` to respectively fp16, int8 or int4. This type of optimization allows to reduce the memory footprint and inference latency.\n",
    "By default the quantization scheme for int8/int4 will be [asymmetric](https://github.com/openvinotoolkit/nncf/blob/develop/docs/compression_algorithms/Quantization.md#asymmetric-quantization), to make it [symmetric](https://github.com/openvinotoolkit/nncf/blob/develop/docs/compression_algorithms/Quantization.md#symmetric-quantization) you can add `--sym`.\n",
    "\n",
    "For INT4 quantization you can also specify the following arguments :\n",
    "\n",
    "- The `--group-size` parameter will define the group size to use for quantization, -1 it will results in per-column quantization.\n",
    "- The `--ratio` parameter controls the ratio between 4-bit and 8-bit quantization. If set to 0.9, it means that 90% of the layers will be quantized to int4 while 10% will be quantized to int8.\n",
    "\n",
    "Smaller group_size and ratio values usually improve accuracy at the sacrifice of the model size and inference latency.\n",
    "\n",
    "> **Note**: There may be no speedup for INT4/INT8 compressed models on dGPU.\n"
   ]
  },
  {
   "cell_type": "code",
   "execution_count": 8,
   "id": "c6a38153",
   "metadata": {},
   "outputs": [
    {
     "data": {
      "application/vnd.jupyter.widget-view+json": {
       "model_id": "6a31e8bc59754d389d7beea74cff5f4f",
       "version_major": 2,
       "version_minor": 0
      },
      "text/plain": [
       "Checkbox(value=True, description='Prepare INT4 model')"
      ]
     },
     "metadata": {},
     "output_type": "display_data"
    },
    {
     "data": {
      "application/vnd.jupyter.widget-view+json": {
       "model_id": "b16b153cb20e4be8ac6d2626dc45bcad",
       "version_major": 2,
       "version_minor": 0
      },
      "text/plain": [
       "Checkbox(value=False, description='Prepare INT8 model')"
      ]
     },
     "metadata": {},
     "output_type": "display_data"
    },
    {
     "data": {
      "application/vnd.jupyter.widget-view+json": {
       "model_id": "1906e1c03af944fc9dfca8abe2dbbcc8",
       "version_major": 2,
       "version_minor": 0
      },
      "text/plain": [
       "Checkbox(value=False, description='Prepare FP16 model')"
      ]
     },
     "metadata": {},
     "output_type": "display_data"
    }
   ],
   "source": [
    "from IPython.display import Markdown, display\n",
    "\n",
    "prepare_int4_model = widgets.Checkbox(\n",
    "    value=True,\n",
    "    description=\"Prepare INT4 model\",\n",
    "    disabled=False,\n",
    ")\n",
    "prepare_int8_model = widgets.Checkbox(\n",
    "    value=False,\n",
    "    description=\"Prepare INT8 model\",\n",
    "    disabled=False,\n",
    ")\n",
    "prepare_fp16_model = widgets.Checkbox(\n",
    "    value=False,\n",
    "    description=\"Prepare FP16 model\",\n",
    "    disabled=False,\n",
    ")\n",
    "\n",
    "display(prepare_int4_model)\n",
    "display(prepare_int8_model)\n",
    "display(prepare_fp16_model)"
   ]
  },
  {
   "attachments": {},
   "cell_type": "markdown",
   "id": "86920fde",
   "metadata": {},
   "source": [
    "#### Weight compression with AWQ\n",
    "[back to top ⬆️](#Table-of-contents:)\n",
    "\n",
    "[Activation-aware Weight Quantization](https://arxiv.org/abs/2306.00978) (AWQ) is an algorithm that tunes model weights for more accurate INT4 compression. It slightly improves generation quality of compressed LLMs, but requires significant additional time for tuning weights on a calibration dataset. We use `wikitext-2-raw-v1/train` subset of the [Wikitext](https://huggingface.co/datasets/Salesforce/wikitext) dataset for calibration.\n",
    "\n",
    "Below you can enable AWQ to be additionally applied during model export with INT4 precision.\n",
    "\n",
    ">**Note**: Applying AWQ requires significant memory and time.\n",
    "\n",
    ">**Note**: It is possible that there will be no matching patterns in the model to apply AWQ, in such case it will be skipped."
   ]
  },
  {
   "cell_type": "code",
   "execution_count": 9,
   "id": "e4531bbd67d8753d",
   "metadata": {},
   "outputs": [
    {
     "data": {
      "application/vnd.jupyter.widget-view+json": {
       "model_id": "191f5a08ab434e4dbd93f12de4094594",
       "version_major": 2,
       "version_minor": 0
      },
      "text/plain": [
       "Checkbox(value=False, description='Enable AWQ')"
      ]
     },
     "metadata": {},
     "output_type": "display_data"
    }
   ],
   "source": [
    "enable_awq = widgets.Checkbox(\n",
    "    value=False,\n",
    "    description=\"Enable AWQ\",\n",
    "    disabled=not prepare_int4_model.value,\n",
    ")\n",
    "display(enable_awq)"
   ]
  },
  {
   "cell_type": "code",
   "execution_count": 10,
   "id": "2020d522",
   "metadata": {},
   "outputs": [],
   "source": [
    "from cmd_helper import optimum_cli\n",
    "\n",
    "pt_model_id = llm_model_configuration[\"model_id\"]\n",
    "pt_model_name = llm_model_id.value.split(\"-\")[0]\n",
    "fp16_model_dir = Path(llm_model_id.value) / \"FP16\"\n",
    "int8_model_dir = Path(llm_model_id.value) / \"INT8_compressed_weights\"\n",
    "int4_model_dir = Path(llm_model_id.value) / \"INT4_compressed_weights\"\n",
    "\n",
    "\n",
    "def convert_to_fp16():\n",
    "    if (fp16_model_dir / \"openvino_model.xml\").exists():\n",
    "        return\n",
    "    remote_code = llm_model_configuration.get(\"remote_code\", False)\n",
    "    additional_args = {\"task\": \"text-generation-with-past\", \"weight-format\": \"fp16\"}\n",
    "    if remote_code:\n",
    "        additional_args[\"trust-remote-code\"] = \"\"\n",
    "    export_command_base = \"optimum-cli export openvino --model {} --task text-generation-with-past --weight-format fp16\".format(pt_model_id)\n",
    "    if remote_code:\n",
    "        export_command_base += \" --trust-remote-code\"\n",
    "    export_command = export_command_base + \" \" + str(fp16_model_dir)\n",
    "    display(Markdown(\"**Export command:**\"))\n",
    "    display(Markdown(f\"`{export_command}`\"))\n",
    "    optimum_cli(pt_model_id, fp16_model_dir, show_command=False, additional_args=additional_args)\n",
    "\n",
    "\n",
    "def convert_to_int8():\n",
    "    if (int8_model_dir / \"openvino_model.xml\").exists():\n",
    "        return\n",
    "    int8_model_dir.mkdir(parents=True, exist_ok=True)\n",
    "    remote_code = llm_model_configuration.get(\"remote_code\", False)\n",
    "    export_command_base = \"optimum-cli export openvino --model {} --task text-generation-with-past --weight-format int8\".format(pt_model_id)\n",
    "    if remote_code:\n",
    "        export_command_base += \" --trust-remote-code\"\n",
    "    additional_args = {\"task\": \"text-generation-with-past\", \"weight-format\": \"int8\"}\n",
    "    if remote_code:\n",
    "        additional_args[\"trust-remote-code\"] = \"\"\n",
    "    export_command = export_command_base + \" \" + str(int8_model_dir)\n",
    "    display(Markdown(\"**Export command:**\"))\n",
    "    display(Markdown(f\"`{export_command}`\"))\n",
    "    optimum_cli(pt_model_id, int8_model_dir, show_command=False, additional_args=additional_args)\n",
    "\n",
    "\n",
    "def convert_to_int4():\n",
    "    compression_configs = {\n",
    "        \"zephyr-7b-beta\": {\n",
    "            \"sym\": True,\n",
    "            \"group_size\": 64,\n",
    "            \"ratio\": 0.6,\n",
    "        },\n",
    "        \"mistral-7b\": {\n",
    "            \"sym\": True,\n",
    "            \"group_size\": 64,\n",
    "            \"ratio\": 0.6,\n",
    "        },\n",
    "        \"minicpm-2b-dpo\": {\n",
    "            \"sym\": True,\n",
    "            \"group_size\": 64,\n",
    "            \"ratio\": 0.6,\n",
    "        },\n",
    "        \"gemma-2b-it\": {\n",
    "            \"sym\": True,\n",
    "            \"group_size\": 64,\n",
    "            \"ratio\": 0.6,\n",
    "        },\n",
    "        \"notus-7b-v1\": {\n",
    "            \"sym\": True,\n",
    "            \"group_size\": 64,\n",
    "            \"ratio\": 0.6,\n",
    "        },\n",
    "        \"neural-chat-7b-v3-1\": {\n",
    "            \"sym\": True,\n",
    "            \"group_size\": 64,\n",
    "            \"ratio\": 0.6,\n",
    "        },\n",
    "        \"llama-2-chat-7b\": {\n",
    "            \"sym\": True,\n",
    "            \"group_size\": 128,\n",
    "            \"ratio\": 0.8,\n",
    "        },\n",
    "        \"llama-3-8b-instruct\": {\n",
    "            \"sym\": True,\n",
    "            \"group_size\": 128,\n",
    "            \"ratio\": 0.8,\n",
    "        },\n",
    "        \"gemma-7b-it\": {\n",
    "            \"sym\": True,\n",
    "            \"group_size\": 128,\n",
    "            \"ratio\": 0.8,\n",
    "        },\n",
    "        \"chatglm2-6b\": {\n",
    "            \"sym\": True,\n",
    "            \"group_size\": 128,\n",
    "            \"ratio\": 0.72,\n",
    "        },\n",
    "        \"qwen-7b-chat\": {\"sym\": True, \"group_size\": 128, \"ratio\": 0.6},\n",
    "        \"red-pajama-3b-chat\": {\n",
    "            \"sym\": False,\n",
    "            \"group_size\": 128,\n",
    "            \"ratio\": 0.5,\n",
    "        },\n",
    "        \"qwen2.5-7b-instruct\": {\"sym\": True, \"group_size\": 128, \"ratio\": 1.0},\n",
    "        \"qwen2.5-3b-instruct\": {\"sym\": True, \"group_size\": 128, \"ratio\": 1.0},\n",
    "        \"qwen2.5-14b-instruct\": {\"sym\": True, \"group_size\": 128, \"ratio\": 1.0},\n",
    "        \"qwen2.5-1.5b-instruct\": {\"sym\": True, \"group_size\": 128, \"ratio\": 1.0},\n",
    "        \"qwen2.5-0.5b-instruct\": {\"sym\": True, \"group_size\": 128, \"ratio\": 1.0},\n",
    "        \"default\": {\n",
    "            \"sym\": False,\n",
    "            \"group_size\": 128,\n",
    "            \"ratio\": 0.8,\n",
    "        },\n",
    "    }\n",
    "\n",
    "    model_compression_params = compression_configs.get(llm_model_id.value, compression_configs[\"default\"])\n",
    "    if (int4_model_dir / \"openvino_model.xml\").exists():\n",
    "        return\n",
    "    remote_code = llm_model_configuration.get(\"remote_code\", False)\n",
    "    additional_args = {\"task\": \"text-generation-with-past\"}\n",
    "    if remote_code:\n",
    "        additional_args[\"trust-remote-code\"] = \"\"\n",
    "    export_command_base = \"optimum-cli export openvino --model {} --task text-generation-with-past --weight-format int4\".format(pt_model_id)\n",
    "    int4_compression_args = \" --group-size {} --ratio {}\".format(model_compression_params[\"group_size\"], model_compression_params[\"ratio\"])\n",
    "    additional_args.update({\"weight-format\": \"int4\", \"group-size\": model_compression_params[\"group_size\"], \"ratio\": model_compression_params[\"ratio\"]})\n",
    "    if model_compression_params[\"sym\"]:\n",
    "        int4_compression_args += \" --sym\"\n",
    "        additional_args[\"sym\"] = \"\"\n",
    "    if enable_awq.value:\n",
    "        int4_compression_args += \" --awq --dataset wikitext2 --num-samples 128\"\n",
    "        additional_args.update({\"dataset\": \"wikitext2\", \"awq\": \"\", \"num-samples\": \"128\"})\n",
    "    export_command_base += int4_compression_args\n",
    "    if remote_code:\n",
    "        export_command_base += \" --trust-remote-code\"\n",
    "    export_command = export_command_base + \" \" + str(int4_model_dir)\n",
    "    display(Markdown(\"**Export command:**\"))\n",
    "    display(Markdown(f\"`{export_command}`\"))\n",
    "    optimum_cli(pt_model_id, int4_model_dir, show_command=False, additional_args=additional_args)\n",
    "\n",
    "\n",
    "if prepare_fp16_model.value:\n",
    "    convert_to_fp16()\n",
    "if prepare_int8_model.value:\n",
    "    convert_to_int8()\n",
    "if prepare_int4_model.value:\n",
    "    convert_to_int4()"
   ]
  },
  {
   "attachments": {},
   "cell_type": "markdown",
   "id": "f1d1d1a2",
   "metadata": {},
   "source": [
    "Let's compare model size for different compression types\n"
   ]
  },
  {
   "cell_type": "code",
   "execution_count": 11,
   "id": "8e127215",
   "metadata": {},
   "outputs": [
    {
     "name": "stdout",
     "output_type": "stream",
     "text": [
      "Size of model with INT4 compressed weights is 1662.28 MB\n"
     ]
    }
   ],
   "source": [
    "fp16_weights = fp16_model_dir / \"openvino_model.bin\"\n",
    "int8_weights = int8_model_dir / \"openvino_model.bin\"\n",
    "int4_weights = int4_model_dir / \"openvino_model.bin\"\n",
    "\n",
    "if fp16_weights.exists():\n",
    "    print(f\"Size of FP16 model is {fp16_weights.stat().st_size / 1024 / 1024:.2f} MB\")\n",
    "for precision, compressed_weights in zip([8, 4], [int8_weights, int4_weights]):\n",
    "    if compressed_weights.exists():\n",
    "        print(f\"Size of model with INT{precision} compressed weights is {compressed_weights.stat().st_size / 1024 / 1024:.2f} MB\")\n",
    "    if compressed_weights.exists() and fp16_weights.exists():\n",
    "        print(f\"Compression rate for INT{precision} model: {fp16_weights.stat().st_size / compressed_weights.stat().st_size:.3f}\")"
   ]
  },
  {
   "attachments": {},
   "cell_type": "markdown",
   "id": "4f943465",
   "metadata": {},
   "source": [
    "### Convert embedding model using Optimum-CLI\n",
    "\n",
    "[back to top ⬆️](#Table-of-contents:)\n",
    "\n",
    "Since some embedding models can only support limited languages, we can filter them out according the LLM you selected.\n"
   ]
  },
  {
   "cell_type": "code",
   "execution_count": 12,
   "id": "49c28d3a",
   "metadata": {},
   "outputs": [
    {
     "data": {
      "application/vnd.jupyter.widget-view+json": {
       "model_id": "0bff371996734c3783d305aba5dfca50",
       "version_major": 2,
       "version_minor": 0
      },
      "text/plain": [
       "Dropdown(description='Embedding Model:', options=('bge-small-en-v1.5', 'bge-large-en-v1.5', 'bge-m3'), value='…"
      ]
     },
     "execution_count": 12,
     "metadata": {},
     "output_type": "execute_result"
    }
   ],
   "source": [
    "embedding_model_id = list(SUPPORTED_EMBEDDING_MODELS[model_language.value])\n",
    "\n",
    "embedding_model_id = widgets.Dropdown(\n",
    "    options=embedding_model_id,\n",
    "    value=embedding_model_id[0],\n",
    "    description=\"Embedding Model:\",\n",
    "    disabled=False,\n",
    ")\n",
    "\n",
    "embedding_model_id"
   ]
  },
  {
   "cell_type": "markdown",
   "id": "2c0d56ec",
   "metadata": {
    "vscode": {
     "languageId": "raw"
    }
   },
   "source": [
    "## Optional: Ingest Data from Telegram Channels\n",
    "\n",
    "If you want to include Telegram channel messages in your RAG system, follow these steps:\n"
   ]
  },
  {
   "cell_type": "code",
   "execution_count": 15,
   "id": "4b751916",
   "metadata": {},
   "outputs": [
    {
     "data": {
      "text/plain": [
       "True"
      ]
     },
     "execution_count": 15,
     "metadata": {},
     "output_type": "execute_result"
    }
   ],
   "source": [
    "# Import required modules for Telegram integration\n",
    "import os\n",
    "from dotenv import load_dotenv\n",
    "from telegram_ingestion import TelegramChannelIngestion\n",
    "from telegram_rag_integration import TelegramRAGIntegration\n",
    "import asyncio\n",
    "\n",
    "# Load environment variables for Telegram API credentials\n",
    "load_dotenv()\n"
   ]
  },
  {
   "cell_type": "code",
   "execution_count": 23,
   "id": "dbd1df8c",
   "metadata": {},
   "outputs": [
    {
     "name": "stdout",
     "output_type": "stream",
     "text": [
      "Downloaded 200 messages from 2 channels\n"
     ]
    }
   ],
   "source": [
    "# List your Telegram channels here (without @ symbol)\n",
    "channels = [\"guardian\", \"bloomberg\"]\n",
    "\n",
    "# Initialize the Telegram client and download messages\n",
    "async def download_messages():\n",
    "    ingestion = TelegramChannelIngestion(\n",
    "        api_id=os.getenv(\"TELEGRAM_API_ID\"),\n",
    "        api_hash=os.getenv(\"TELEGRAM_API_HASH\")\n",
    "    )\n",
    "    \n",
    "    await ingestion.start()\n",
    "    try:\n",
    "        messages = await ingestion.process_channels(\n",
    "            channels,\n",
    "            limit_per_channel=100,  # Adjust as needed\n",
    "            since_hours=24  # Adjust as needed\n",
    "        )\n",
    "        print(f\"Downloaded {len(messages)} messages from {len(channels)} channels\")\n",
    "    finally:\n",
    "        await ingestion.stop()\n",
    "\n",
    "# Run the download\n",
    "await download_messages()\n"
   ]
  },
  {
   "cell_type": "code",
   "execution_count": 24,
   "id": "cfbf2b44",
   "metadata": {},
   "outputs": [
    {
     "ename": "TypeError",
     "evalue": "Core.compile_model() got an unexpected keyword argument 'device'",
     "output_type": "error",
     "traceback": [
      "\u001b[31m---------------------------------------------------------------------------\u001b[39m",
      "\u001b[31mTypeError\u001b[39m                                 Traceback (most recent call last)",
      "\u001b[36mCell\u001b[39m\u001b[36m \u001b[39m\u001b[32mIn[24]\u001b[39m\u001b[32m, line 2\u001b[39m\n\u001b[32m      1\u001b[39m \u001b[38;5;66;03m# Initialize the RAG integration with OpenVINO-optimized models\u001b[39;00m\n\u001b[32m----> \u001b[39m\u001b[32m2\u001b[39m telegram_rag = \u001b[43mTelegramRAGIntegration\u001b[49m\u001b[43m(\u001b[49m\n\u001b[32m      3\u001b[39m \u001b[43m    \u001b[49m\u001b[43membedding_model_name\u001b[49m\u001b[43m=\u001b[49m\u001b[33;43m\"\u001b[39;49m\u001b[33;43mBAAI/bge-small-en-v1.5\u001b[39;49m\u001b[33;43m\"\u001b[39;49m\u001b[43m,\u001b[49m\u001b[43m  \u001b[49m\u001b[38;5;66;43;03m# Use the same model as the main RAG system\u001b[39;49;00m\n\u001b[32m      4\u001b[39m \u001b[43m    \u001b[49m\u001b[43mvector_store_path\u001b[49m\u001b[43m=\u001b[49m\u001b[33;43m\"\u001b[39;49m\u001b[33;43mtelegram_vector_store\u001b[39;49m\u001b[33;43m\"\u001b[39;49m\u001b[43m,\u001b[49m\n\u001b[32m      5\u001b[39m \u001b[43m    \u001b[49m\u001b[43mchunk_size\u001b[49m\u001b[43m=\u001b[49m\u001b[32;43m500\u001b[39;49m\u001b[43m,\u001b[49m\n\u001b[32m      6\u001b[39m \u001b[43m    \u001b[49m\u001b[43mchunk_overlap\u001b[49m\u001b[43m=\u001b[49m\u001b[32;43m50\u001b[39;49m\u001b[43m,\u001b[49m\n\u001b[32m      7\u001b[39m \u001b[43m    \u001b[49m\u001b[43mdevice\u001b[49m\u001b[43m=\u001b[49m\u001b[33;43m\"\u001b[39;49m\u001b[33;43mCPU\u001b[39;49m\u001b[33;43m\"\u001b[39;49m\u001b[43m  \u001b[49m\u001b[38;5;66;43;03m# Use the same device as the main RAG system\u001b[39;49;00m\n\u001b[32m      8\u001b[39m \u001b[43m)\u001b[49m\n\u001b[32m     10\u001b[39m \u001b[38;5;66;03m# Process all downloaded messages\u001b[39;00m\n\u001b[32m     11\u001b[39m telegram_rag.process_telegram_data_dir()\n",
      "\u001b[36mFile \u001b[39m\u001b[32m~/Documents/GitHub/openvino_notebooks/notebooks/llm-rag-langchain/telegram_rag_integration.py:33\u001b[39m, in \u001b[36mTelegramRAGIntegration.__init__\u001b[39m\u001b[34m(self, embedding_model_name, vector_store_path, chunk_size, chunk_overlap, device)\u001b[39m\n\u001b[32m     30\u001b[39m \u001b[38;5;28mself\u001b[39m.vector_store_path = Path(vector_store_path)\n\u001b[32m     32\u001b[39m \u001b[38;5;66;03m# Initialize OpenVINO-optimized embeddings\u001b[39;00m\n\u001b[32m---> \u001b[39m\u001b[32m33\u001b[39m \u001b[38;5;28mself\u001b[39m.embeddings = \u001b[43mOpenVINOBgeEmbeddings\u001b[49m\u001b[43m(\u001b[49m\n\u001b[32m     34\u001b[39m \u001b[43m    \u001b[49m\u001b[43mmodel_path\u001b[49m\u001b[43m=\u001b[49m\u001b[43membedding_model_name\u001b[49m\u001b[43m,\u001b[49m\n\u001b[32m     35\u001b[39m \u001b[43m    \u001b[49m\u001b[43mmodel_kwargs\u001b[49m\u001b[43m=\u001b[49m\u001b[43m{\u001b[49m\u001b[33;43m\"\u001b[39;49m\u001b[33;43mdevice\u001b[39;49m\u001b[33;43m\"\u001b[39;49m\u001b[43m:\u001b[49m\u001b[43m \u001b[49m\u001b[43mdevice\u001b[49m\u001b[43m}\u001b[49m\u001b[43m,\u001b[49m\n\u001b[32m     36\u001b[39m \u001b[43m    \u001b[49m\u001b[43mencode_kwargs\u001b[49m\u001b[43m=\u001b[49m\u001b[43m{\u001b[49m\u001b[33;43m\"\u001b[39;49m\u001b[33;43mnormalize_embeddings\u001b[39;49m\u001b[33;43m\"\u001b[39;49m\u001b[43m:\u001b[49m\u001b[43m \u001b[49m\u001b[38;5;28;43;01mTrue\u001b[39;49;00m\u001b[43m}\u001b[49m\n\u001b[32m     37\u001b[39m \u001b[43m\u001b[49m\u001b[43m)\u001b[49m\n\u001b[32m     39\u001b[39m \u001b[38;5;28mself\u001b[39m.text_splitter = RecursiveCharacterTextSplitter(\n\u001b[32m     40\u001b[39m     chunk_size=chunk_size,\n\u001b[32m     41\u001b[39m     chunk_overlap=chunk_overlap\n\u001b[32m     42\u001b[39m )\n\u001b[32m     44\u001b[39m \u001b[38;5;66;03m# Initialize or load vector store\u001b[39;00m\n",
      "\u001b[36mFile \u001b[39m\u001b[32m~/Documents/GitHub/openvino_notebooks/notebooks/llm-rag-langchain/ov_langchain_helper.py:527\u001b[39m, in \u001b[36mOpenVINOBgeEmbeddings.__init__\u001b[39m\u001b[34m(self, **kwargs)\u001b[39m\n\u001b[32m    525\u001b[39m \u001b[38;5;28;01mdef\u001b[39;00m\u001b[38;5;250m \u001b[39m\u001b[34m__init__\u001b[39m(\u001b[38;5;28mself\u001b[39m, **kwargs: Any):\n\u001b[32m    526\u001b[39m \u001b[38;5;250m    \u001b[39m\u001b[33;03m\"\"\"Initialize the sentence_transformer.\"\"\"\u001b[39;00m\n\u001b[32m--> \u001b[39m\u001b[32m527\u001b[39m     \u001b[38;5;28;43msuper\u001b[39;49m\u001b[43m(\u001b[49m\u001b[43m)\u001b[49m\u001b[43m.\u001b[49m\u001b[34;43m__init__\u001b[39;49m\u001b[43m(\u001b[49m\u001b[43m*\u001b[49m\u001b[43m*\u001b[49m\u001b[43mkwargs\u001b[49m\u001b[43m)\u001b[49m\n\u001b[32m    529\u001b[39m     \u001b[38;5;28;01mif\u001b[39;00m \u001b[33m\"\u001b[39m\u001b[33m-zh\u001b[39m\u001b[33m\"\u001b[39m \u001b[38;5;129;01min\u001b[39;00m \u001b[38;5;28mself\u001b[39m.model_path:\n\u001b[32m    530\u001b[39m         \u001b[38;5;28mself\u001b[39m.query_instruction = DEFAULT_QUERY_BGE_INSTRUCTION_ZH\n",
      "\u001b[36mFile \u001b[39m\u001b[32m~/Documents/GitHub/openvino_notebooks/notebooks/llm-rag-langchain/ov_langchain_helper.py:367\u001b[39m, in \u001b[36mOpenVINOEmbeddings.__init__\u001b[39m\u001b[34m(self, **kwargs)\u001b[39m\n\u001b[32m    365\u001b[39m \u001b[38;5;28;01mif\u001b[39;00m \u001b[38;5;28mself\u001b[39m.ov_model \u001b[38;5;129;01mis\u001b[39;00m \u001b[38;5;28;01mNone\u001b[39;00m:\n\u001b[32m    366\u001b[39m     core = ov.Core()\n\u001b[32m--> \u001b[39m\u001b[32m367\u001b[39m     \u001b[38;5;28mself\u001b[39m.ov_model = \u001b[43mcore\u001b[49m\u001b[43m.\u001b[49m\u001b[43mcompile_model\u001b[49m\u001b[43m(\u001b[49m\u001b[43mPath\u001b[49m\u001b[43m(\u001b[49m\u001b[38;5;28;43mself\u001b[39;49m\u001b[43m.\u001b[49m\u001b[43mmodel_path\u001b[49m\u001b[43m)\u001b[49m\u001b[43m \u001b[49m\u001b[43m/\u001b[49m\u001b[43m \u001b[49m\u001b[33;43m\"\u001b[39;49m\u001b[33;43mopenvino_model.xml\u001b[39;49m\u001b[33;43m\"\u001b[39;49m\u001b[43m,\u001b[49m\u001b[43m \u001b[49m\u001b[43m*\u001b[49m\u001b[43m*\u001b[49m\u001b[38;5;28;43mself\u001b[39;49m\u001b[43m.\u001b[49m\u001b[43mmodel_kwargs\u001b[49m\u001b[43m)\u001b[49m\n\u001b[32m    368\u001b[39m \u001b[38;5;28mself\u001b[39m.tokenizer = openvino_genai.Tokenizer(\u001b[38;5;28mself\u001b[39m.model_path)\n",
      "\u001b[31mTypeError\u001b[39m: Core.compile_model() got an unexpected keyword argument 'device'"
     ]
    }
   ],
   "source": [
    "# Initialize the RAG integration with OpenVINO-optimized models\n",
    "telegram_rag = TelegramRAGIntegration(\n",
    "    embedding_model_name=\"BAAI/bge-small-en-v1.5\",  # Use the same model as the main RAG system\n",
    "    vector_store_path=\"telegram_vector_store\",\n",
    "    chunk_size=500,\n",
    "    chunk_overlap=50,\n",
    "    device=\"CPU\"  # Use the same device as the main RAG system\n",
    ")\n",
    "\n",
    "# Process all downloaded messages\n",
    "telegram_rag.process_telegram_data_dir()\n"
   ]
  },
  {
   "cell_type": "raw",
   "metadata": {
    "vscode": {
     "languageId": "raw"
    }
   },
   "source": [
    "### Query Telegram Messages\n",
    "\n",
    "You can now query your Telegram messages using the same OpenVINO-optimized models:\n"
   ]
  },
  {
   "cell_type": "code",
   "execution_count": null,
   "id": "4d39f10c",
   "metadata": {},
   "outputs": [],
   "source": [
    "def query_telegram_messages(query: str, k: int = 5, channel: str = None):\n",
    "    \"\"\"\n",
    "    Query Telegram messages with optional channel filtering\n",
    "    \n",
    "    Args:\n",
    "        query: The search query\n",
    "        k: Number of results to return\n",
    "        channel: Optional channel name to filter results\n",
    "    \"\"\"\n",
    "    filter_dict = {\"channel\": channel} if channel else None\n",
    "    results = telegram_rag.query_messages(query, k=k, filter_dict=filter_dict)\n",
    "    \n",
    "    print(f\"Query: {query}\\n\")\n",
    "    for i, doc in enumerate(results, 1):\n",
    "        print(f\"Result {i}:\")\n",
    "        print(f\"Channel: {doc.metadata['channel']}\")\n",
    "        print(f\"Date: {doc.metadata['date']}\")\n",
    "        print(f\"Content: {doc.page_content[:200]}...\\n\")\n",
    "\n",
    "# Example queries\n",
    "print(\"Querying all channels:\")\n",
    "query_telegram_messages(\"What are the latest announcements?\")\n",
    "\n",
    "print(\"\\nQuerying a specific channel:\")\n",
    "query_telegram_messages(\"What are the latest updates?\", channel=\"example_channel1\")\n"
   ]
  },
  {
   "cell_type": "raw",
   "metadata": {
    "vscode": {
     "languageId": "raw"
    }
   },
   "source": [
    "### Combined Queries\n",
    "\n",
    "You can also combine queries across both your document sources and Telegram messages. This allows you to get comprehensive answers from all your data sources:\n"
   ]
  },
  {
   "cell_type": "code",
   "execution_count": null,
   "id": "91227f84",
   "metadata": {},
   "outputs": [],
   "source": [
    "def query_all_sources(query: str, k_per_source: int = 3):\n",
    "    \"\"\"\n",
    "    Query both document and Telegram sources\n",
    "    \n",
    "    Args:\n",
    "        query: The search query\n",
    "        k_per_source: Number of results to return from each source\n",
    "    \"\"\"\n",
    "    print(f\"Query: {query}\\n\")\n",
    "    \n",
    "    # Get results from documents\n",
    "    print(\"Results from documents:\")\n",
    "    doc_results = qa_chain.invoke({\"question\": query})\n",
    "    print(doc_results[\"answer\"])\n",
    "    print(\"\\n\" + \"-\"*50 + \"\\n\")\n",
    "    \n",
    "    # Get results from Telegram\n",
    "    print(\"Results from Telegram channels:\")\n",
    "    telegram_results = telegram_rag.query_messages(query, k=k_per_source)\n",
    "    for i, doc in enumerate(telegram_results, 1):\n",
    "        print(f\"Result {i}:\")\n",
    "        print(f\"Channel: {doc.metadata['channel']}\")\n",
    "        print(f\"Date: {doc.metadata['date']}\")\n",
    "        print(f\"Content: {doc.page_content[:200]}...\\n\")\n",
    "\n",
    "# Example combined query\n",
    "query_all_sources(\"What are the latest updates and announcements?\")\n"
   ]
  },
  {
   "cell_type": "code",
   "execution_count": 13,
   "id": "3594116d",
   "metadata": {},
   "outputs": [
    {
     "name": "stdout",
     "output_type": "stream",
     "text": [
      "Selected bge-small-en-v1.5 model\n"
     ]
    }
   ],
   "source": [
    "embedding_model_configuration = SUPPORTED_EMBEDDING_MODELS[model_language.value][embedding_model_id.value]\n",
    "print(f\"Selected {embedding_model_id.value} model\")"
   ]
  },
  {
   "attachments": {},
   "cell_type": "markdown",
   "id": "b2fbc403-1cac-4864-8965-ad2fea0fd1ca",
   "metadata": {},
   "source": [
    "OpenVINO embedding model and tokenizer can be exported by `feature-extraction` task with `optimum-cli`.\n"
   ]
  },
  {
   "cell_type": "code",
   "execution_count": 14,
   "id": "ff80e6eb-7923-40ef-93d8-5e6c56e50667",
   "metadata": {},
   "outputs": [
    {
     "data": {
      "text/markdown": [
       "**Export command:**"
      ],
      "text/plain": [
       "<IPython.core.display.Markdown object>"
      ]
     },
     "metadata": {},
     "output_type": "display_data"
    },
    {
     "data": {
      "text/markdown": [
       "`optimum-cli export openvino --model BAAI/bge-small-en-v1.5 --task feature-extraction bge-small-en-v1.5`"
      ],
      "text/plain": [
       "<IPython.core.display.Markdown object>"
      ]
     },
     "metadata": {},
     "output_type": "display_data"
    }
   ],
   "source": [
    "export_command_base = \"optimum-cli export openvino --model {} --task feature-extraction\".format(embedding_model_configuration[\"model_id\"])\n",
    "export_command = export_command_base + \" \" + str(embedding_model_id.value)\n",
    "\n",
    "display(Markdown(\"**Export command:**\"))\n",
    "display(Markdown(f\"`{export_command}`\"))\n",
    "\n",
    "if not Path(embedding_model_id.value).exists():\n",
    "    optimum_cli(embedding_model_configuration[\"model_id\"], str(embedding_model_id.value), show_command=False, additional_args={\"task\": \"feature-extraction\"})"
   ]
  },
  {
   "attachments": {},
   "cell_type": "markdown",
   "id": "a2d818f0",
   "metadata": {},
   "source": [
    "### Convert rerank model using Optimum-CLI\n",
    "\n",
    "[back to top ⬆️](#Table-of-contents:)\n"
   ]
  },
  {
   "cell_type": "code",
   "execution_count": 15,
   "id": "1b5b8840",
   "metadata": {},
   "outputs": [
    {
     "data": {
      "application/vnd.jupyter.widget-view+json": {
       "model_id": "43547d25a6b74a299db6029cb737ee10",
       "version_major": 2,
       "version_minor": 0
      },
      "text/plain": [
       "Dropdown(description='Rerank Model:', options=('bge-reranker-v2-m3', 'bge-reranker-large', 'bge-reranker-base'…"
      ]
     },
     "execution_count": 15,
     "metadata": {},
     "output_type": "execute_result"
    }
   ],
   "source": [
    "rerank_model_id = list(SUPPORTED_RERANK_MODELS)\n",
    "\n",
    "rerank_model_id = widgets.Dropdown(\n",
    "    options=rerank_model_id,\n",
    "    value=rerank_model_id[0],\n",
    "    description=\"Rerank Model:\",\n",
    "    disabled=False,\n",
    ")\n",
    "\n",
    "rerank_model_id"
   ]
  },
  {
   "cell_type": "code",
   "execution_count": 16,
   "id": "1ca6fe04",
   "metadata": {},
   "outputs": [
    {
     "name": "stdout",
     "output_type": "stream",
     "text": [
      "Selected bge-reranker-v2-m3 model\n"
     ]
    }
   ],
   "source": [
    "rerank_model_configuration = SUPPORTED_RERANK_MODELS[rerank_model_id.value]\n",
    "print(f\"Selected {rerank_model_id.value} model\")"
   ]
  },
  {
   "attachments": {},
   "cell_type": "markdown",
   "id": "400dbff2-9915-4df0-a1ef-01cda3543b27",
   "metadata": {},
   "source": [
    "Since `rerank` model is sort of sentence classification task, its OpenVINO IR and tokenizer can be exported by `text-classification` task with `optimum-cli`.\n"
   ]
  },
  {
   "cell_type": "code",
   "execution_count": 17,
   "id": "d0bab20b",
   "metadata": {},
   "outputs": [
    {
     "data": {
      "text/markdown": [
       "**Export command:**"
      ],
      "text/plain": [
       "<IPython.core.display.Markdown object>"
      ]
     },
     "metadata": {},
     "output_type": "display_data"
    },
    {
     "data": {
      "text/markdown": [
       "`optimum-cli export openvino --model BAAI/bge-reranker-v2-m3 --task text-classification bge-reranker-v2-m3`"
      ],
      "text/plain": [
       "<IPython.core.display.Markdown object>"
      ]
     },
     "metadata": {},
     "output_type": "display_data"
    }
   ],
   "source": [
    "export_command_base = \"optimum-cli export openvino --model {} --task text-classification\".format(rerank_model_configuration[\"model_id\"])\n",
    "export_command = export_command_base + \" \" + str(rerank_model_id.value)\n",
    "\n",
    "display(Markdown(\"**Export command:**\"))\n",
    "display(Markdown(f\"`{export_command}`\"))\n",
    "\n",
    "if not Path(rerank_model_id.value).exists():\n",
    "    optimum_cli(rerank_model_configuration[\"model_id\"], str(rerank_model_id.value), show_command=False, additional_args={\"task\": \"text-classification\"})"
   ]
  },
  {
   "attachments": {},
   "cell_type": "markdown",
   "id": "749b5bbd",
   "metadata": {},
   "source": [
    "## Select device for inference and model variant\n",
    "\n",
    "[back to top ⬆️](#Table-of-contents:)\n",
    "\n",
    "> **Note**: There may be no speedup for INT4/INT8 compressed models on dGPU.\n",
    "\n",
    "### Select device for embedding model inference\n",
    "\n",
    "[back to top ⬆️](#Table-of-contents:)\n"
   ]
  },
  {
   "cell_type": "code",
   "execution_count": 18,
   "id": "e11e73cf",
   "metadata": {},
   "outputs": [
    {
     "data": {
      "application/vnd.jupyter.widget-view+json": {
       "model_id": "d6674837197d4f91b8e4607cea7b6fbc",
       "version_major": 2,
       "version_minor": 0
      },
      "text/plain": [
       "Dropdown(description='Device:', index=2, options=('CPU', 'GPU', 'AUTO'), value='AUTO')"
      ]
     },
     "execution_count": 18,
     "metadata": {},
     "output_type": "execute_result"
    }
   ],
   "source": [
    "from notebook_utils import device_widget\n",
    "\n",
    "embedding_device = device_widget()\n",
    "\n",
    "embedding_device"
   ]
  },
  {
   "cell_type": "code",
   "execution_count": 20,
   "id": "9ab29b85",
   "metadata": {
    "editable": true,
    "slideshow": {
     "slide_type": ""
    },
    "tags": []
   },
   "outputs": [
    {
     "name": "stdout",
     "output_type": "stream",
     "text": [
      "Embedding model will be loaded to AUTO device for text embedding\n"
     ]
    }
   ],
   "source": [
    "print(f\"Embedding model will be loaded to {embedding_device.value} device for text embedding\")"
   ]
  },
  {
   "attachments": {},
   "cell_type": "markdown",
   "id": "60cdfe3e-5716-49b8-81fa-58b5d039495e",
   "metadata": {},
   "source": [
    "Optimize the BGE embedding model's parameter precision when loading model to NPU device."
   ]
  },
  {
   "cell_type": "code",
   "execution_count": 21,
   "id": "ad95d16b",
   "metadata": {},
   "outputs": [],
   "source": [
    "from notebook_utils import optimize_bge_embedding\n",
    "\n",
    "USING_NPU = embedding_device.value == \"NPU\"\n",
    "\n",
    "npu_embedding_dir = embedding_model_id.value + \"-npu\"\n",
    "npu_embedding_path = Path(npu_embedding_dir) / \"openvino_model.xml\"\n",
    "if USING_NPU and not Path(npu_embedding_dir).exists():\n",
    "    shutil.copytree(embedding_model_id.value, npu_embedding_dir)\n",
    "    optimize_bge_embedding(Path(embedding_model_id.value) / \"openvino_model.xml\", npu_embedding_path)"
   ]
  },
  {
   "attachments": {},
   "cell_type": "markdown",
   "id": "81b2644c",
   "metadata": {},
   "source": [
    "### Select device for rerank model inference\n",
    "\n",
    "[back to top ⬆️](#Table-of-contents:)\n"
   ]
  },
  {
   "cell_type": "code",
   "execution_count": 22,
   "id": "e0a2586b-5811-420f-834a-2b68de207df7",
   "metadata": {},
   "outputs": [
    {
     "data": {
      "application/vnd.jupyter.widget-view+json": {
       "model_id": "868605f539d840d3b0f716490de4b485",
       "version_major": 2,
       "version_minor": 0
      },
      "text/plain": [
       "Dropdown(description='Device:', index=2, options=('CPU', 'GPU', 'AUTO'), value='AUTO')"
      ]
     },
     "execution_count": 22,
     "metadata": {},
     "output_type": "execute_result"
    }
   ],
   "source": [
    "rerank_device = device_widget()\n",
    "\n",
    "rerank_device"
   ]
  },
  {
   "cell_type": "code",
   "execution_count": 23,
   "id": "7b7a76b2",
   "metadata": {},
   "outputs": [
    {
     "name": "stdout",
     "output_type": "stream",
     "text": [
      "Rerenk model will be loaded to AUTO device for text reranking\n"
     ]
    }
   ],
   "source": [
    "print(f\"Rerenk model will be loaded to {rerank_device.value} device for text reranking\")"
   ]
  },
  {
   "attachments": {},
   "cell_type": "markdown",
   "id": "ef31656a",
   "metadata": {},
   "source": [
    "### Select device for LLM model inference\n",
    "\n",
    "[back to top ⬆️](#Table-of-contents:)\n"
   ]
  },
  {
   "cell_type": "code",
   "execution_count": 24,
   "id": "6d044d01",
   "metadata": {},
   "outputs": [
    {
     "data": {
      "application/vnd.jupyter.widget-view+json": {
       "model_id": "55ea881bbba24b819312446cefcaae5c",
       "version_major": 2,
       "version_minor": 0
      },
      "text/plain": [
       "Dropdown(description='Device:', index=2, options=('CPU', 'GPU', 'AUTO'), value='AUTO')"
      ]
     },
     "execution_count": 24,
     "metadata": {},
     "output_type": "execute_result"
    }
   ],
   "source": [
    "from notebook_utils import device_widget\n",
    "\n",
    "llm_device = device_widget()\n",
    "\n",
    "llm_device"
   ]
  },
  {
   "cell_type": "code",
   "execution_count": 25,
   "id": "348b90fe",
   "metadata": {},
   "outputs": [
    {
     "name": "stdout",
     "output_type": "stream",
     "text": [
      "LLM model will be loaded to AUTO device for response generation\n"
     ]
    }
   ],
   "source": [
    "print(f\"LLM model will be loaded to {llm_device.value} device for response generation\")"
   ]
  },
  {
   "attachments": {},
   "cell_type": "markdown",
   "id": "bc225391",
   "metadata": {},
   "source": [
    "## Load models\n",
    "\n",
    "[back to top ⬆️](#Table-of-contents:)\n",
    "\n",
    "### Load embedding model\n",
    "\n",
    "[back to top ⬆️](#Table-of-contents:)\n",
    "\n",
    "Now a local embedding model of OpenVINO can be accelerated on NPU by using the `OpenVINOBgeEmbeddings` or `OpenVINOEmbeddings` class without PyTorch requirements.\n"
   ]
  },
  {
   "cell_type": "code",
   "execution_count": 26,
   "id": "df3e8fd1-d4c1-4e33-b46e-7840e392f8ee",
   "metadata": {},
   "outputs": [
    {
     "data": {
      "text/plain": [
       "array([-0.04208659,  0.06681865,  0.00791674], dtype=float32)"
      ]
     },
     "execution_count": 26,
     "metadata": {},
     "output_type": "execute_result"
    }
   ],
   "source": [
    "from ov_langchain_helper import OpenVINOBgeEmbeddings\n",
    "\n",
    "embedding_model_name = npu_embedding_dir if USING_NPU else embedding_model_id.value\n",
    "batch_size = 1 if USING_NPU else 4\n",
    "embedding_model_kwargs = {\"device_name\": embedding_device.value}\n",
    "encode_kwargs = {\n",
    "    \"mean_pooling\": embedding_model_configuration[\"mean_pooling\"],\n",
    "    \"normalize_embeddings\": embedding_model_configuration[\"normalize_embeddings\"],\n",
    "    \"batch_size\": batch_size,\n",
    "}\n",
    "\n",
    "if USING_NPU:\n",
    "    import openvino as ov\n",
    "\n",
    "    core = ov.Core()\n",
    "    embedding_model = core.read_model(Path(embedding_model_name) / \"openvino_model.xml\")\n",
    "    port_to_shape = dict()\n",
    "    for input_port in embedding_model.inputs:\n",
    "        port_to_shape[input_port] = [1, 512]\n",
    "    embedding_model.reshape(port_to_shape)\n",
    "    embedding_model = core.compile_model(embedding_model, embedding_device.value)\n",
    "    embedding = OpenVINOBgeEmbeddings(\n",
    "        ov_model=embedding_model,\n",
    "        model_path=embedding_model_name,\n",
    "        model_kwargs=embedding_model_kwargs,\n",
    "        encode_kwargs=encode_kwargs,\n",
    "    )\n",
    "else:\n",
    "    embedding = OpenVINOBgeEmbeddings(\n",
    "        model_path=embedding_model_name,\n",
    "        model_kwargs=embedding_model_kwargs,\n",
    "        encode_kwargs=encode_kwargs,\n",
    "    )\n",
    "\n",
    "text = \"This is a test document.\"\n",
    "embedding_result = embedding.embed_query(text)\n",
    "embedding_result[:3]"
   ]
  },
  {
   "cell_type": "code",
   "execution_count": 27,
   "id": "8ee86822-a00e-4ce7-a2f3-9f493fa413b8",
   "metadata": {},
   "outputs": [
    {
     "name": "stdout",
     "output_type": "stream",
     "text": [
      "384\n"
     ]
    }
   ],
   "source": [
    "print(len(embedding_result))"
   ]
  },
  {
   "attachments": {},
   "cell_type": "markdown",
   "id": "d1a1fd58",
   "metadata": {},
   "source": [
    "### Load rerank model\n",
    "\n",
    "[back to top ⬆️](#Table-of-contents:)\n",
    "\n",
    "Now a local rerank model of OpenVINO can be accelerated on NPU by using the `OpenVINOReranker` class without PyTorch requirements.\n",
    "\n",
    "> **Note**: Rerank can be skipped in RAG.\n"
   ]
  },
  {
   "cell_type": "code",
   "execution_count": 28,
   "id": "b67b39f2-8394-45fb-9b2b-ea63e267a2d3",
   "metadata": {},
   "outputs": [],
   "source": [
    "from ov_langchain_helper import OpenVINOReranker\n",
    "\n",
    "rerank_model_name = rerank_model_id.value\n",
    "rerank_model_kwargs = {\"device_name\": rerank_device.value}\n",
    "rerank_top_n = 2\n",
    "vector_search_top_k_npu = 4\n",
    "\n",
    "if rerank_device.value == \"NPU\":\n",
    "    import openvino as ov\n",
    "\n",
    "    core = ov.Core()\n",
    "    rerank_model = core.read_model(Path(rerank_model_name) / \"openvino_model.xml\")\n",
    "    port_to_shape = dict()\n",
    "    for input_port in rerank_model.inputs:\n",
    "        port_to_shape[input_port] = [vector_search_top_k_npu, 512]\n",
    "    rerank_model.reshape(port_to_shape)\n",
    "\n",
    "    rerank_model = core.compile_model(rerank_model, rerank_device.value)\n",
    "\n",
    "    reranker = OpenVINOReranker(\n",
    "        ov_model=rerank_model,\n",
    "        model_path=rerank_model_name,\n",
    "        top_n=rerank_top_n,\n",
    "    )\n",
    "else:\n",
    "    reranker = OpenVINOReranker(\n",
    "        model_path=rerank_model_name,\n",
    "        model_kwargs=rerank_model_kwargs,\n",
    "        top_n=rerank_top_n,\n",
    "    )"
   ]
  },
  {
   "attachments": {},
   "cell_type": "markdown",
   "id": "79fe990a",
   "metadata": {},
   "source": [
    "### Load LLM model\n",
    "\n",
    "[back to top ⬆️](#Table-of-contents:)\n",
    "\n",
    "`OpenVINOLLM` is a llm wrapper of [openvino_genai API](https://github.com/openvinotoolkit/openvino.genai) for LangChain. Models can be loaded by specifying the model parameters using the `from_model_path` method. If you have an Intel GPU or NPU, you can specify `deivce=\"GPU\"` or `deivce=\"NPU\"` to run inference on it."
   ]
  },
  {
   "cell_type": "code",
   "execution_count": 29,
   "id": "90b968f3",
   "metadata": {},
   "outputs": [
    {
     "data": {
      "application/vnd.jupyter.widget-view+json": {
       "model_id": "c534ea4e5b834ac6a9b7a577735f2d3e",
       "version_major": 2,
       "version_minor": 0
      },
      "text/plain": [
       "Dropdown(description='Model to run:', options=('INT4',), value='INT4')"
      ]
     },
     "execution_count": 29,
     "metadata": {},
     "output_type": "execute_result"
    }
   ],
   "source": [
    "available_models = []\n",
    "if int4_model_dir.exists():\n",
    "    available_models.append(\"INT4\")\n",
    "if int8_model_dir.exists():\n",
    "    available_models.append(\"INT8\")\n",
    "if fp16_model_dir.exists():\n",
    "    available_models.append(\"FP16\")\n",
    "\n",
    "model_to_run = widgets.Dropdown(\n",
    "    options=available_models,\n",
    "    value=available_models[0],\n",
    "    description=\"Model to run:\",\n",
    "    disabled=False,\n",
    ")\n",
    "\n",
    "model_to_run"
   ]
  },
  {
   "attachments": {},
   "cell_type": "markdown",
   "id": "6de9169f-3ed3-4027-97ef-5e3e0b2b8e20",
   "metadata": {},
   "source": [
    "`OpenVINOLLM` can support customized tokenizer for better accuracy with some specific models. For example, the default OpenVINO tokenizer can be replaced with a Transformer library based tokenizer through following steps:\n",
    "\n",
    "```Python\n",
    "from transformers import AutoTokenizer\n",
    "tokenizer = AutoTokenizer.from_pretrained(str(model_dir))\n",
    "llm = OpenVINOLLM.from_model_path(\n",
    "    model_path=str(model_dir),\n",
    "    device=llm_device.value,\n",
    "    tokenizer=tokenizer,\n",
    ")\n",
    "```"
   ]
  },
  {
   "cell_type": "code",
   "execution_count": 30,
   "id": "f7f708db-8de1-4efd-94b2-fcabc48d52f4",
   "metadata": {},
   "outputs": [
    {
     "name": "stdout",
     "output_type": "stream",
     "text": [
      "Loading model from qwen2.5-3b-instruct/INT4_compressed_weights\n"
     ]
    },
    {
     "data": {
      "text/plain": [
       "'2 +'"
      ]
     },
     "execution_count": 30,
     "metadata": {},
     "output_type": "execute_result"
    }
   ],
   "source": [
    "from ov_langchain_helper import OpenVINOLLM\n",
    "\n",
    "\n",
    "if model_to_run.value == \"INT4\":\n",
    "    model_dir = int4_model_dir\n",
    "elif model_to_run.value == \"INT8\":\n",
    "    model_dir = int8_model_dir\n",
    "else:\n",
    "    model_dir = fp16_model_dir\n",
    "print(f\"Loading model from {model_dir}\")\n",
    "\n",
    "\n",
    "llm = OpenVINOLLM.from_model_path(\n",
    "    model_path=str(model_dir),\n",
    "    device=llm_device.value,\n",
    "    # tokenizer=tokenizer,\n",
    ")\n",
    "\n",
    "llm.config.max_new_tokens = 2\n",
    "llm.invoke(\"2 + 2 =\")"
   ]
  },
  {
   "attachments": {},
   "cell_type": "markdown",
   "id": "4fb8b0e4",
   "metadata": {},
   "source": [
    "## Run QA over Document\n",
    "\n",
    "[back to top ⬆️](#Table-of-contents:)\n",
    "\n",
    "Now, when model created, we can setup Chatbot interface using [Gradio](https://www.gradio.app/).\n",
    "\n",
    "A typical RAG application has two main components:\n",
    "\n",
    "- **Indexing**: a pipeline for ingesting data from a source and indexing it. This usually happen offline.\n",
    "\n",
    "- **Retrieval and generation**: the actual RAG chain, which takes the user query at run time and retrieves the relevant data from the index, then passes that to the model.\n",
    "\n",
    "The most common full sequence from raw data to answer looks like:\n",
    "\n",
    "**Indexing**\n",
    "\n",
    "1. `Load`: First we need to load our data. We’ll use DocumentLoaders for this.\n",
    "2. `Split`: Text splitters break large Documents into smaller chunks. This is useful both for indexing data and for passing it in to a model, since large chunks are harder to search over and won’t in a model’s finite context window.\n",
    "3. `Store`: We need somewhere to store and index our splits, so that they can later be searched over. This is often done using a VectorStore and Embeddings model.\n",
    "\n",
    "![Indexing pipeline](https://github.com/openvinotoolkit/openvino_notebooks/assets/91237924/dfed2ba3-0c3a-4e0e-a2a7-01638730486a)\n",
    "\n",
    "**Retrieval and generation**\n",
    "\n",
    "1. `Retrieve`: Given a user input, relevant splits are retrieved from storage using a Retriever.\n",
    "2. `Generate`: A LLM produces an answer using a prompt that includes the question and the retrieved data.\n",
    "\n",
    "![Retrieval and generation pipeline](https://github.com/openvinotoolkit/openvino_notebooks/assets/91237924/f0545ddc-c0cd-4569-8c86-9879fdab105a)\n"
   ]
  },
  {
   "cell_type": "code",
   "execution_count": 31,
   "id": "5b97eeeb",
   "metadata": {},
   "outputs": [],
   "source": [
    "import re\n",
    "from langchain.text_splitter import (\n",
    "    CharacterTextSplitter,\n",
    "    RecursiveCharacterTextSplitter,\n",
    "    MarkdownTextSplitter,\n",
    ")\n",
    "from langchain.document_loaders import (\n",
    "    CSVLoader,\n",
    "    EverNoteLoader,\n",
    "    PyPDFLoader,\n",
    "    TextLoader,\n",
    "    UnstructuredEPubLoader,\n",
    "    UnstructuredHTMLLoader,\n",
    "    UnstructuredMarkdownLoader,\n",
    "    UnstructuredODTLoader,\n",
    "    UnstructuredPowerPointLoader,\n",
    "    UnstructuredWordDocumentLoader,\n",
    ")\n",
    "\n",
    "\n",
    "class ChineseTextSplitter(CharacterTextSplitter):\n",
    "    def __init__(self, pdf: bool = False, **kwargs):\n",
    "        super().__init__(**kwargs)\n",
    "        self.pdf = pdf\n",
    "\n",
    "    def split_text(self, text: str) -> list[str]:\n",
    "        if self.pdf:\n",
    "            text = re.sub(r\"\\n{3,}\", \"\\n\", text)\n",
    "            text = text.replace(\"\\n\\n\", \"\")\n",
    "        sent_sep_pattern = re.compile('([﹒﹔﹖﹗．。！？][\"’”」』]{0,2}|(?=[\"‘“「『]{1,2}|$))')\n",
    "        sent_list = []\n",
    "        for ele in sent_sep_pattern.split(text):\n",
    "            if sent_sep_pattern.match(ele) and sent_list:\n",
    "                sent_list[-1] += ele\n",
    "            elif ele:\n",
    "                sent_list.append(ele)\n",
    "        return sent_list\n",
    "\n",
    "\n",
    "TEXT_SPLITERS = {\n",
    "    \"Character\": CharacterTextSplitter,\n",
    "    \"RecursiveCharacter\": RecursiveCharacterTextSplitter,\n",
    "    \"Markdown\": MarkdownTextSplitter,\n",
    "    \"Chinese\": ChineseTextSplitter,\n",
    "}\n",
    "\n",
    "\n",
    "LOADERS = {\n",
    "    \".csv\": (CSVLoader, {}),\n",
    "    \".doc\": (UnstructuredWordDocumentLoader, {}),\n",
    "    \".docx\": (UnstructuredWordDocumentLoader, {}),\n",
    "    \".enex\": (EverNoteLoader, {}),\n",
    "    \".epub\": (UnstructuredEPubLoader, {}),\n",
    "    \".html\": (UnstructuredHTMLLoader, {}),\n",
    "    \".md\": (UnstructuredMarkdownLoader, {}),\n",
    "    \".odt\": (UnstructuredODTLoader, {}),\n",
    "    \".pdf\": (PyPDFLoader, {}),\n",
    "    \".ppt\": (UnstructuredPowerPointLoader, {}),\n",
    "    \".pptx\": (UnstructuredPowerPointLoader, {}),\n",
    "    \".txt\": (TextLoader, {\"encoding\": \"utf8\"}),\n",
    "}\n",
    "\n",
    "if model_language.value == \"English\":\n",
    "    text_example_path = \"text_example_en.pdf\"\n",
    "else:\n",
    "    text_example_path = \"text_example_cn.pdf\""
   ]
  },
  {
   "attachments": {},
   "cell_type": "markdown",
   "id": "602f8ebd-789c-4eb2-b54d-b23d8f1d8e7b",
   "metadata": {},
   "source": [
    "We can build a RAG pipeline of LangChain through [`create_retrieval_chain`](https://python.langchain.com/docs/modules/chains/), which will help to create a chain to connect RAG components including:\n",
    "\n",
    "- [`Vector stores`](https://python.langchain.com/docs/modules/data_connection/vectorstores/)，\n",
    "- [`Retrievers`](https://python.langchain.com/docs/modules/data_connection/retrievers/)\n",
    "- [`LLM`](https://python.langchain.com/docs/integrations/llms/)\n",
    "- [`Embedding`](https://python.langchain.com/docs/integrations/text_embedding/)\n"
   ]
  },
  {
   "cell_type": "code",
   "execution_count": 32,
   "id": "0908e5e9-4dcb-4fc8-8480-3cf70fd5e934",
   "metadata": {},
   "outputs": [],
   "source": [
    "from langchain.prompts import PromptTemplate\n",
    "from langchain_community.vectorstores import FAISS\n",
    "from langchain.chains.retrieval import create_retrieval_chain\n",
    "from langchain.chains.combine_documents import create_stuff_documents_chain\n",
    "from langchain.docstore.document import Document\n",
    "from langchain.retrievers import ContextualCompressionRetriever\n",
    "import gradio as gr\n",
    "\n",
    "rag_prompt_template = llm_model_configuration[\"rag_prompt_template\"]\n",
    "\n",
    "\n",
    "def load_single_document(file_path: str) -> list[Document]:\n",
    "    \"\"\"\n",
    "    helper for loading a single document\n",
    "\n",
    "    Params:\n",
    "      file_path: document path\n",
    "    Returns:\n",
    "      documents loaded\n",
    "\n",
    "    \"\"\"\n",
    "    ext = \".\" + file_path.rsplit(\".\", 1)[-1]\n",
    "    if ext in LOADERS:\n",
    "        loader_class, loader_args = LOADERS[ext]\n",
    "        loader = loader_class(file_path, **loader_args)\n",
    "        return loader.load()\n",
    "\n",
    "    raise ValueError(f\"File does not exist '{ext}'\")\n",
    "\n",
    "\n",
    "def default_partial_text_processor(partial_text: str, new_text: str):\n",
    "    \"\"\"\n",
    "    helper for updating partially generated answer, used by default\n",
    "\n",
    "    Params:\n",
    "      partial_text: text buffer for storing previosly generated text\n",
    "      new_text: text update for the current step\n",
    "    Returns:\n",
    "      updated text string\n",
    "\n",
    "    \"\"\"\n",
    "    partial_text += new_text\n",
    "    return partial_text\n",
    "\n",
    "\n",
    "text_processor = llm_model_configuration.get(\"partial_text_processor\", default_partial_text_processor)\n",
    "\n",
    "\n",
    "def create_vectordb(\n",
    "    docs, spliter_name, chunk_size, chunk_overlap, vector_search_top_k, vector_rerank_top_n, run_rerank, search_method, score_threshold, progress=gr.Progress()\n",
    "):\n",
    "    \"\"\"\n",
    "    Initialize a vector database\n",
    "\n",
    "    Params:\n",
    "      doc: orignal documents provided by user\n",
    "      spliter_name: spliter method\n",
    "      chunk_size:  size of a single sentence chunk\n",
    "      chunk_overlap: overlap size between 2 chunks\n",
    "      vector_search_top_k: Vector search top k\n",
    "      vector_rerank_top_n: Search rerank top n\n",
    "      run_rerank: whether run reranker\n",
    "      search_method: top k search method\n",
    "      score_threshold: score threshold when selecting 'similarity_score_threshold' method\n",
    "\n",
    "    \"\"\"\n",
    "    global db\n",
    "    global retriever\n",
    "    global combine_docs_chain\n",
    "    global rag_chain\n",
    "\n",
    "    if rerank_device.value == \"NPU\":\n",
    "        vector_search_top_k = vector_search_top_k_npu\n",
    "    if vector_rerank_top_n > vector_search_top_k:\n",
    "        gr.Warning(\"Search top k must >= Rerank top n\")\n",
    "\n",
    "    documents = []\n",
    "    for doc in docs:\n",
    "        if type(doc) is not str:\n",
    "            doc = doc.name\n",
    "        documents.extend(load_single_document(doc))\n",
    "\n",
    "    text_splitter = TEXT_SPLITERS[spliter_name](chunk_size=chunk_size, chunk_overlap=chunk_overlap)\n",
    "\n",
    "    texts = text_splitter.split_documents(documents)\n",
    "    db = FAISS.from_documents(texts, embedding)\n",
    "    if search_method == \"similarity_score_threshold\":\n",
    "        search_kwargs = {\"k\": vector_search_top_k, \"score_threshold\": score_threshold}\n",
    "    else:\n",
    "        search_kwargs = {\"k\": vector_search_top_k}\n",
    "    retriever = db.as_retriever(search_kwargs=search_kwargs, search_type=search_method)\n",
    "    if run_rerank:\n",
    "        reranker.top_n = vector_rerank_top_n\n",
    "        retriever = ContextualCompressionRetriever(base_compressor=reranker, base_retriever=retriever)\n",
    "    prompt = PromptTemplate.from_template(rag_prompt_template)\n",
    "    combine_docs_chain = create_stuff_documents_chain(llm, prompt)\n",
    "\n",
    "    rag_chain = create_retrieval_chain(retriever, combine_docs_chain)\n",
    "\n",
    "    return \"Vector database is Ready\"\n",
    "\n",
    "\n",
    "def update_retriever(vector_search_top_k, vector_rerank_top_n, run_rerank, search_method, score_threshold):\n",
    "    \"\"\"\n",
    "    Update retriever\n",
    "\n",
    "    Params:\n",
    "      vector_search_top_k: Vector search top k\n",
    "      vector_rerank_top_n: Search rerank top n\n",
    "      run_rerank: whether run reranker\n",
    "      search_method: top k search method\n",
    "      score_threshold: score threshold when selecting 'similarity_score_threshold' method\n",
    "\n",
    "    \"\"\"\n",
    "    global retriever\n",
    "    global rag_chain\n",
    "\n",
    "    if rerank_device.value == \"NPU\":\n",
    "        vector_search_top_k = vector_search_top_k_npu\n",
    "    if vector_rerank_top_n > vector_search_top_k:\n",
    "        gr.Warning(\"Search top k must >= Rerank top n\")\n",
    "\n",
    "    if search_method == \"similarity_score_threshold\":\n",
    "        search_kwargs = {\"k\": vector_search_top_k, \"score_threshold\": score_threshold}\n",
    "    else:\n",
    "        search_kwargs = {\"k\": vector_search_top_k}\n",
    "    retriever = db.as_retriever(search_kwargs=search_kwargs, search_type=search_method)\n",
    "    if run_rerank:\n",
    "        retriever = ContextualCompressionRetriever(base_compressor=reranker, base_retriever=retriever)\n",
    "        reranker.top_n = vector_rerank_top_n\n",
    "    rag_chain = create_retrieval_chain(retriever, combine_docs_chain)\n",
    "\n",
    "    return \"Vector database is Ready\"\n",
    "\n",
    "\n",
    "# initialize the vector store with example document\n",
    "create_vectordb(\n",
    "    [text_example_path],\n",
    "    \"RecursiveCharacter\",\n",
    "    chunk_size=400,\n",
    "    chunk_overlap=50,\n",
    "    vector_search_top_k=4,\n",
    "    vector_rerank_top_n=2,\n",
    "    run_rerank=True,\n",
    "    search_method=\"similarity\" if rerank_device.value == \"NPU\" else \"similarity_score_threshold\",\n",
    "    score_threshold=0.5,\n",
    ")\n",
    "\n",
    "\n",
    "def bot(history, temperature, top_p, top_k, repetition_penalty, hide_full_prompt, do_rag):\n",
    "    \"\"\"\n",
    "    callback function for running chatbot on submit button click\n",
    "\n",
    "    Params:\n",
    "      history: conversation history\n",
    "      temperature:  parameter for control the level of creativity in AI-generated text.\n",
    "                    By adjusting the `temperature`, you can influence the AI model's probability distribution, making the text more focused or diverse.\n",
    "      top_p: parameter for control the range of tokens considered by the AI model based on their cumulative probability.\n",
    "      top_k: parameter for control the range of tokens considered by the AI model based on their cumulative probability, selecting number of tokens with highest probability.\n",
    "      repetition_penalty: parameter for penalizing tokens based on how frequently they occur in the text.\n",
    "      hide_full_prompt: whether to show searching results in promopt.\n",
    "      do_rag: whether do RAG when generating texts.\n",
    "    \"\"\"\n",
    "\n",
    "    llm.config.temperature = temperature\n",
    "    llm.config.top_p = 1\n",
    "    llm.config.top_k = 2\n",
    "    llm.config.do_sample = temperature > 0.0\n",
    "    llm.config.max_new_tokens = 1024\n",
    "    llm.config.repetition_penalty = repetition_penalty\n",
    "\n",
    "    partial_text = \"\"\n",
    "    if do_rag:\n",
    "        streaming_response = rag_chain.stream({\"input\": history[-1][0]})\n",
    "        for new_text in streaming_response:\n",
    "            if not hide_full_prompt and list(new_text.keys())[0] != \"answer\":\n",
    "                partial_text = text_processor(partial_text, str(new_text))\n",
    "                history[-1][1] = partial_text\n",
    "                yield history\n",
    "            if list(new_text.keys())[0] == \"answer\":\n",
    "                partial_text = text_processor(partial_text, list(new_text.values())[0])\n",
    "                history[-1][1] = partial_text\n",
    "                yield history\n",
    "    else:\n",
    "        streaming_response = llm.stream(history[-1][0])\n",
    "        for new_text in streaming_response:\n",
    "            partial_text = text_processor(partial_text, new_text)\n",
    "            history[-1][1] = partial_text\n",
    "            yield history"
   ]
  },
  {
   "attachments": {},
   "cell_type": "markdown",
   "id": "71d53bbe-79fd-45ed-ae0a-a76601d2939b",
   "metadata": {},
   "source": [
    "Next we can create a Gradio UI and run demo."
   ]
  },
  {
   "cell_type": "code",
   "execution_count": 33,
   "id": "6a641959-ba7d-468a-accf-b28c7bc05856",
   "metadata": {},
   "outputs": [
    {
     "name": "stderr",
     "output_type": "stream",
     "text": [
      "No relevant docs were retrieved using the relevance score threshold 0.5\n"
     ]
    },
    {
     "name": "stdout",
     "output_type": "stream",
     "text": [
      "Hello!"
     ]
    }
   ],
   "source": [
    "streaming_response = rag_chain.stream({\"input\": \"hi\"})\n",
    "for new_text in streaming_response:\n",
    "    if list(new_text.keys())[0] == \"answer\":\n",
    "        print(list(new_text.values())[0], end=\"\", flush=True)"
   ]
  },
  {
   "cell_type": "code",
   "execution_count": null,
   "id": "8412ca3e-20ee-4929-b1d8-c211201d1cbe",
   "metadata": {},
   "outputs": [
    {
     "name": "stderr",
     "output_type": "stream",
     "text": [
      "/home/sidd/Documents/GitHub/openvino_notebooks/notebooks/llm-rag-langchain/gradio_helper.py:170: UserWarning: You have not specified a value for the `type` parameter. Defaulting to the 'tuples' format for chatbot messages, but this is deprecated and will be removed in a future version of Gradio. Please set type='messages' instead, which uses openai-style dictionaries with 'role' and 'content' keys.\n",
      "  chatbot = gr.Chatbot(\n"
     ]
    },
    {
     "name": "stdout",
     "output_type": "stream",
     "text": [
      "* Running on local URL:  http://127.0.0.1:7860\n",
      "* To create a public link, set `share=True` in `launch()`.\n"
     ]
    },
    {
     "data": {
      "text/html": [
       "<div><iframe src=\"http://127.0.0.1:7860/\" width=\"100%\" height=\"500\" allow=\"autoplay; camera; microphone; clipboard-read; clipboard-write;\" frameborder=\"0\" allowfullscreen></iframe></div>"
      ],
      "text/plain": [
       "<IPython.core.display.HTML object>"
      ]
     },
     "metadata": {},
     "output_type": "display_data"
    }
   ],
   "source": [
    "if not Path(\"gradio_helper.py\").exists():\n",
    "    r = requests.get(url=\"https://raw.githubusercontent.com/openvinotoolkit/openvino_notebooks/latest/notebooks/llm-rag-langchain/gradio_helper.py\")\n",
    "    open(\"gradio_helper.py\", \"w\").write(r.text)\n",
    "\n",
    "from gradio_helper import make_demo\n",
    "\n",
    "demo = make_demo(\n",
    "    load_doc_fn=create_vectordb,\n",
    "    run_fn=bot,\n",
    "    stop_fn=None,\n",
    "    update_retriever_fn=update_retriever,\n",
    "    model_name=llm_model_id.value,\n",
    "    language=model_language.value,\n",
    ")\n",
    "\n",
    "try:\n",
    "    demo.queue().launch(debug=True)\n",
    "except Exception:\n",
    "    demo.queue().launch(share=True, debug=True)\n",
    "# If you are launching remotely, specify server_name and server_port\n",
    "# EXAMPLE: `demo.launch(server_name='your server name', server_port='server port in int')`\n",
    "# To learn more please refer to the Gradio docs: https://gradio.app/docs/"
   ]
  },
  {
   "cell_type": "code",
   "execution_count": null,
   "id": "770359c4-5561-4a38-a6a6-34c386a2d734",
   "metadata": {},
   "outputs": [],
   "source": []
  }
 ],
 "metadata": {
  "kernelspec": {
   "display_name": "Python 3 (ipykernel)",
   "language": "python",
   "name": "python3"
  },
  "language_info": {
   "codemirror_mode": {
    "name": "ipython",
    "version": 3
   },
   "file_extension": ".py",
   "mimetype": "text/x-python",
   "name": "python",
   "nbconvert_exporter": "python",
   "pygments_lexer": "ipython3",
   "version": "3.12.3"
  },
  "openvino_notebooks": {
   "imageUrl": "https://github.com/openvinotoolkit/openvino_notebooks/assets/29454499/304aa048-f10c-41c6-bb31-6d2bfdf49cf5",
   "tags": {
    "categories": [
     "Model Demos",
     "AI Trends"
    ],
    "libraries": [],
    "other": [
     "LLM"
    ],
    "tasks": [
     "Text Generation"
    ]
   }
  },
  "widgets": {
   "application/vnd.jupyter.widget-state+json": {
    "state": {},
    "version_major": 2,
    "version_minor": 0
   }
  }
 },
 "nbformat": 4,
 "nbformat_minor": 5
}
